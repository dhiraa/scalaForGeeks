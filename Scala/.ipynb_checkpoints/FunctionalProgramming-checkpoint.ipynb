{
 "cells": [
  {
   "cell_type": "markdown",
   "metadata": {
    "deletable": true,
    "editable": true
   },
   "source": [
    "# Anonymous functions: functions without a name\n",
    "\n",
    "(args) => function body  \n",
    "Have you heared of lambda expression!?"
   ]
  },
  {
   "cell_type": "code",
   "execution_count": 3,
   "metadata": {
    "collapsed": false,
    "deletable": true,
    "editable": true
   },
   "outputs": [
    {
     "name": "stdout",
     "output_type": "stream",
     "text": [
      "Value of 4 + 1: 5\n",
      "/opt/aja/notebooks/scala\n",
      "class $line51.$read$$iw$$iw$$iw$$iw$$iw$$iw$$anonfun$inc1$1\n",
      "2\n",
      "class $line54.$read$$iw$$iw$$iw$$iw$$iw$$iw$$anonfun$inc2$1\n",
      "2\n",
      "2\n"
     ]
    }
   ],
   "source": [
    "val inc = (x:Int) => x + 1\n",
    "println(s\"Value of 4 + 1: ${inc(4)}\")\n",
    "\n",
    "val userDir = () => { System.getProperty(\"user.dir\") }\n",
    "println(userDir())\n",
    "\n",
    "def inc1 = (n: Int) => n + 1\n",
    "println(inc1.getClass)\n",
    "println(inc1(1))\n",
    "\n",
    "def inc2() = (n: Int) => n + 1\n",
    "println(inc2().getClass)\n",
    "//inc2(2) Error\n",
    "\n",
    "def inc2_1 = inc2()\n",
    "println(inc2_1(1))\n",
    "val inc2_2 = inc2()\n",
    "println(inc2_2(1))"
   ]
  },
  {
   "cell_type": "code",
   "execution_count": 4,
   "metadata": {
    "collapsed": false,
    "deletable": true,
    "editable": true
   },
   "outputs": [
    {
     "name": "stdout",
     "output_type": "stream",
     "text": [
      "Time flies like an arrow ----->\n",
      "Time flies like an arrow ----->\n",
      "Time flies like an arrow ----->\n",
      "Time flies like an arrow ----->\n",
      "Time flies like an arrow ----->\n"
     ]
    },
    {
     "data": {
      "text/plain": [
       "Name: java.lang.InterruptedException\n",
       "Message: sleep interrupted\n",
       "StackTrace:   at java.lang.Thread.sleep(Native Method)\n",
       "  at WhileLoop$.oncePerSecond(<console>:32)"
      ]
     },
     "execution_count": 4,
     "metadata": {},
     "output_type": "execute_result"
    }
   ],
   "source": [
    "//callback is something similar to void function pointer\n",
    "//with no args and no return type\n",
    "object WhileLoop {\n",
    "  def oncePerSecond(callback: () => Unit) {\n",
    "    var i = 5\n",
    "    while (i > 0) {\n",
    "      callback()\n",
    "      Thread sleep 1000 //so called easy way\n",
    "      Thread.sleep(1000) //our way\n",
    "      i = i - 1\n",
    "    }\n",
    "  }\n",
    "}\n",
    "//oncePerSecond(timeFlies)\n",
    "WhileLoop.oncePerSecond(() => println(\"Time flies like an arrow ----->\"))\n",
    "def timeFlies()\n",
    "{\n",
    "  println(\"Time flies like an arrow ----->\")\n",
    "}\n"
   ]
  },
  {
   "cell_type": "markdown",
   "metadata": {
    "deletable": true,
    "editable": true
   },
   "source": [
    "## CallByName vs CallByValue"
   ]
  },
  {
   "cell_type": "code",
   "execution_count": 1,
   "metadata": {
    "collapsed": true,
    "deletable": true,
    "editable": true
   },
   "outputs": [],
   "source": [
    "//A by-name parameter is specified by omitting the parentheses that normally accompany\n",
    "//a function parameter, as follows:\n",
    "def myCallByNameFunction(callByNameParameter: => Int) = 5//or\n",
    "//Without this syntactic shortcut, this method definition would look like the following:\n",
    "def myCallByNameFunction1(callByNameParameter: () => Int) = 7"
   ]
  },
  {
   "cell_type": "code",
   "execution_count": 2,
   "metadata": {
    "collapsed": true,
    "deletable": true,
    "editable": true
   },
   "outputs": [],
   "source": [
    "def CallByValue() {\n",
    "  def time() = {\n",
    "    println(\"Getting time in nano seconds\")\n",
    "    System.nanoTime\n",
    "  }\n",
    "\n",
    "  //Execute the passed code and get the result\n",
    "  def delayed(t: Long) {\n",
    "    println(\"In delayed method\")\n",
    "    println(\"Param: \" + t)\n",
    "  }\n",
    "  delayed(time())\n",
    "}\n"
   ]
  },
  {
   "cell_type": "markdown",
   "metadata": {
    "deletable": true,
    "editable": true
   },
   "source": [
    "Call-by-Name: the value of the parameter is not determined until it is called within the function."
   ]
  },
  {
   "cell_type": "code",
   "execution_count": 3,
   "metadata": {
    "collapsed": true,
    "deletable": true,
    "editable": true
   },
   "outputs": [],
   "source": [
    "//Can be viewed as pointer to the function, that waits for explicit invocation\n",
    "def CallByName() = {\n",
    "  def time() = {\n",
    "    println(\"Getting time in nano seconds\")\n",
    "    System.nanoTime\n",
    "  }\n",
    "\n",
    "  //Reference to the passed block is called when actually been used\n",
    "  //Lazy Evaluation\n",
    "  def delayed2(t: => Long) {\n",
    "    println(\"In delayed method\")\n",
    "    println(\"Param: \" + t)\n",
    "  }\n",
    "  delayed2(time())\n",
    "}"
   ]
  },
  {
   "cell_type": "code",
   "execution_count": 6,
   "metadata": {
    "collapsed": false,
    "deletable": true,
    "editable": true
   },
   "outputs": [
    {
     "name": "stdout",
     "output_type": "stream",
     "text": [
      "Getting time in nano seconds\n",
      "In delayed method\n",
      "Param: 117405115367101\n"
     ]
    }
   ],
   "source": [
    "CallByValue()"
   ]
  },
  {
   "cell_type": "code",
   "execution_count": 5,
   "metadata": {
    "collapsed": false,
    "deletable": true,
    "editable": true
   },
   "outputs": [
    {
     "name": "stdout",
     "output_type": "stream",
     "text": [
      "In delayed method\n",
      "Getting time in nano seconds\n",
      "Param: 117401182376940\n"
     ]
    }
   ],
   "source": [
    "CallByName()"
   ]
  },
  {
   "cell_type": "code",
   "execution_count": 9,
   "metadata": {
    "collapsed": false,
    "deletable": true,
    "editable": true
   },
   "outputs": [
    {
     "name": "stdout",
     "output_type": "stream",
     "text": [
      "still awesome\n",
      "still awesome\n",
      "still awesome\n",
      "still awesome\n",
      "still awesome\n"
     ]
    }
   ],
   "source": [
    "\n",
    "//() is added to the parameter to show the difference\n",
    "//def whileAwesome(condition: () => Boolean)(body: () => Unit): Unit = {\n",
    "\n",
    "//**** Remove the => and see what happens in the condition?\n",
    "def whileAwesome(condition: => Boolean)(body: => Unit): Unit = {\n",
    "  //if (condition()) {\n",
    "  if (condition) {\n",
    "    body\n",
    "    whileAwesome(condition)(body)\n",
    "  }\n",
    "}\n",
    "\n",
    "var count = 0\n",
    "//whileAwesome(() => count < 5) {\n",
    "whileAwesome(count < 5) {\n",
    "  println(\"still awesome\")\n",
    "  count += 1\n",
    "}\n"
   ]
  },
  {
   "cell_type": "markdown",
   "metadata": {
    "deletable": true,
    "editable": true
   },
   "source": [
    "## Closure"
   ]
  },
  {
   "cell_type": "code",
   "execution_count": 10,
   "metadata": {
    "collapsed": false,
    "deletable": true,
    "editable": true
   },
   "outputs": [
    {
     "data": {
      "text/plain": [
       "10"
      ]
     },
     "execution_count": 10,
     "metadata": {},
     "output_type": "execute_result"
    }
   ],
   "source": [
    "var outSideVariable = 0\n",
    "\n",
    "\n",
    "def someFunction(value: Int) = {\n",
    "  //closure action\n",
    "  outSideVariable += value\n",
    "}\n",
    "\n",
    "//update the outsideVariable through closure\n",
    "someFunction(10)\n",
    "//print\n",
    "outSideVariable"
   ]
  },
  {
   "cell_type": "code",
   "execution_count": 11,
   "metadata": {
    "collapsed": false,
    "deletable": true,
    "editable": true
   },
   "outputs": [
    {
     "data": {
      "text/plain": [
       "19"
      ]
     },
     "execution_count": 11,
     "metadata": {},
     "output_type": "execute_result"
    }
   ],
   "source": [
    "// update directly\n",
    "outSideVariable = outSideVariable + 9\n",
    "outSideVariable"
   ]
  },
  {
   "cell_type": "code",
   "execution_count": 12,
   "metadata": {
    "collapsed": false,
    "deletable": true,
    "editable": true
   },
   "outputs": [
    {
     "data": {
      "text/plain": [
       "20"
      ]
     },
     "execution_count": 12,
     "metadata": {},
     "output_type": "execute_result"
    }
   ],
   "source": [
    "//Lets see what happens inside the closure?\n",
    "someFunction(1)\n",
    "//print\n",
    "outSideVariable"
   ]
  },
  {
   "cell_type": "markdown",
   "metadata": {
    "deletable": true,
    "editable": true
   },
   "source": [
    "Two free variables: i and factor   \n",
    "- i -> Formal parameter   \n",
    "- factor ->  a reference to a variable in the enclosing scope, reads its current value each time   "
   ]
  },
  {
   "cell_type": "code",
   "execution_count": 14,
   "metadata": {
    "collapsed": false,
    "deletable": true,
    "editable": true
   },
   "outputs": [
    {
     "data": {
      "text/plain": [
       "List(3, 6, 9, 12, 15)"
      ]
     },
     "execution_count": 14,
     "metadata": {},
     "output_type": "execute_result"
    }
   ],
   "source": [
    "var factor = 3\n",
    "val multiplier = (i:Int) => i * factor\n",
    "\n",
    "val l1 = List(1, 2, 3, 4, 5) map multiplier\n",
    "l1"
   ]
  },
  {
   "cell_type": "code",
   "execution_count": 15,
   "metadata": {
    "collapsed": false,
    "deletable": true,
    "editable": true
   },
   "outputs": [
    {
     "data": {
      "text/plain": [
       "List(5, 10, 15, 20, 25)"
      ]
     },
     "execution_count": 15,
     "metadata": {},
     "output_type": "execute_result"
    }
   ],
   "source": [
    "factor = 5\n",
    "val l2 = List(1, 2, 3, 4, 5) map multiplier\n",
    "l2"
   ]
  },
  {
   "cell_type": "markdown",
   "metadata": {
    "deletable": true,
    "editable": true
   },
   "source": [
    "## Currying"
   ]
  },
  {
   "cell_type": "code",
   "execution_count": null,
   "metadata": {
    "collapsed": true,
    "deletable": true,
    "editable": true
   },
   "outputs": [],
   "source": [
    "def partial1[A,B,C](a: A, f: (A,B) => C): B => C =\n",
    "    (b: B) => f(a, b)"
   ]
  },
  {
   "cell_type": "code",
   "execution_count": null,
   "metadata": {
    "collapsed": true
   },
   "outputs": [],
   "source": [
    "// Let’s look at another example, currying,9 which converts a function f of two arguments\n",
    "// into a function of one argument that partially applies f. Here again there’s only one\n",
    "// implementation that compiles. Write this implementation.\n",
    "def curry[A,B,C](f: (A, B) => C): A => (B => C) = \n",
    "    (a: A) => (b: B) => f(a, b)\n"
   ]
  },
  {
   "cell_type": "code",
   "execution_count": null,
   "metadata": {
    "collapsed": true
   },
   "outputs": [],
   "source": [
    "// Implement uncurry, which reverses the transformation of curry. Note that since =>\n",
    "// associates to the right, A => (B => C) can be written as A => B => C.\n",
    "def uncurry[A,B,C](f: A => B => C): (A, B) => C =\n",
    "        (a: A, b: B) => f(a)(b)"
   ]
  },
  {
   "cell_type": "code",
   "execution_count": null,
   "metadata": {
    "collapsed": true
   },
   "outputs": [],
   "source": [
    "def compose[A,B,C](f: B => C, g: A => B): A => C = \n",
    "    (a: A) => f(g(a: A))"
   ]
  },
  {
   "cell_type": "code",
   "execution_count": null,
   "metadata": {
    "collapsed": true
   },
   "outputs": [],
   "source": []
  },
  {
   "cell_type": "code",
   "execution_count": null,
   "metadata": {
    "collapsed": true
   },
   "outputs": [],
   "source": []
  }
 ],
 "metadata": {
  "kernelspec": {
   "display_name": "ToreeSpark - Scala",
   "language": "scala",
   "name": "toreespark_scala"
  },
  "language_info": {
   "codemirror_mode": "text/x-scala",
   "file_extension": ".scala",
   "mimetype": "text/x-scala",
   "name": "scala",
   "pygments_lexer": "scala",
   "version": "2.11.8"
  }
 },
 "nbformat": 4,
 "nbformat_minor": 2
}
