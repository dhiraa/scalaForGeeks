{
 "cells": [
  {
   "cell_type": "code",
   "execution_count": 14,
   "metadata": {
    "collapsed": false
   },
   "outputs": [
    {
     "data": {
      "text/plain": [
       "8"
      ]
     },
     "execution_count": 14,
     "metadata": {},
     "output_type": "execute_result"
    }
   ],
   "source": [
    "//0 1 1 2 3 5 8 13 ...\n",
    "def findNthFibbonacci(n: Int): Int = {\n",
    "    @annotation.tailrec\n",
    "    def go(current: Int , prev: Int, sum: Int): Int = {\n",
    "//         println(current, prev, sum)\n",
    "        if (current >= n )\n",
    "            sum\n",
    "        else\n",
    "            go(sum, current, sum+current)\n",
    "    }\n",
    "    go(1, 0, 0)\n",
    "}\n",
    "\n",
    "//Test\n",
    "findNthFibbonacci(5)"
   ]
  },
  {
   "cell_type": "code",
   "execution_count": 35,
   "metadata": {
    "collapsed": false
   },
   "outputs": [
    {
     "name": "stdout",
     "output_type": "stream",
     "text": [
      "true\n",
      "false\n"
     ]
    }
   ],
   "source": [
    "def isSorted[A](as: Array[A], ordered: (A,A) => Boolean): Boolean = {\n",
    "    def loop(current: Int, next: Int, state: Boolean): Boolean = {\n",
    "        if (next==as.size) return state\n",
    "        else loop(next, next+1, state & ordered(as(current), as(next))) \n",
    "    }\n",
    "    loop(0, 1, ordered(as(0),as(1)))\n",
    "}\n",
    "\n",
    "//Test\n",
    "println(isSorted(Array(0,1,2,3,4,5), (x: Int, y: Int) => x < y))\n",
    "println(isSorted(Array(0,1,0,3,4,5), (x: Int, y: Int) => x < y))"
   ]
  },
  {
   "cell_type": "code",
   "execution_count": null,
   "metadata": {
    "collapsed": true
   },
   "outputs": [],
   "source": []
  }
 ],
 "metadata": {
  "kernelspec": {
   "display_name": "ToreeSpark - Scala",
   "language": "scala",
   "name": "toreespark_scala"
  },
  "language_info": {
   "codemirror_mode": "text/x-scala",
   "file_extension": ".scala",
   "mimetype": "text/x-scala",
   "name": "scala",
   "pygments_lexer": "scala",
   "version": "2.11.8"
  }
 },
 "nbformat": 4,
 "nbformat_minor": 2
}
