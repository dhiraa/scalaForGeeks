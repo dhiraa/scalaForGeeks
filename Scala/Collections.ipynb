{
 "cells": [
  {
   "cell_type": "markdown",
   "metadata": {
    "deletable": true,
    "editable": true
   },
   "source": [
    "# Hallmarks of functional programming\n",
    " - Mapping,\n",
    " - Filtering, \n",
    " - Folding, and \n",
    " - Reducing.\n",
    " \n",
    " All collections are based on Iterable and Traversable traits\n",
    "### Traversable\n",
    "- A Traversable has one abstract method: `foreach`. When you call foreach, the collection will feed the passed function \n",
    "all the elements it keeps, one after the other.\n",
    "- When you have call a Traversables foreach, or its derived methods, it will blow its values into your function one at \n",
    "a time - so it has control over the iteration.\n",
    "- Traversable requires implementing the foreach method, which is used by everything else.\n",
    "\n",
    "### Iterable\n",
    "- On the other hand, an Iterable has as abstract method iterator, which returns an Iterator. You can call next on an \n",
    "Iterator to get the next element at the time of your choosing. Until you do, it has to keep track of where it was in \n",
    "the collection, and what's next.\n",
    "- With the Iterator returned by an Iterable though, you suck the values out of it, controlling when to move to the next \n",
    "one yourself.\n",
    "- Iterable requires implementing the iterator method, which is used by everything else.\n",
    "\n",
    "```scala\n",
    "sealed abstract class Tree extends Traversable[Int]\n",
    "case class Branch(left: Tree, right: Tree) extends Tree {\n",
    "  def foreach[U](f: Int => U) = left foreach f; right foreach f\n",
    "}\n",
    "case class Node(elem: Int) extends Tree {\n",
    "  def foreach[U](f: Int => U) = f(elem)\n",
    "}\n",
    "\n",
    "sealed abstract class Tree extends Iterable[Int]\n",
    "case class Branch(left: Tree, right: Tree) extends Tree {\n",
    "  def iterator: Iterator[Int] = left.iterator ++ right.iterator\n",
    "}\n",
    "case class Node(elem: Int) extends Tree {\n",
    "  def iterator: Iterator[Int] = Iterator.single(elem)\n",
    "}\n",
    "```\n",
    "\n",
    "- Iterable doesn't define length.  Iterable abstracts across finite sequences and potentially infinite streams. Most of \n",
    "the time one is dealing with finite sequences so you \"have a length,\" and Seq reflects that. Frequently you won't \n",
    "actually make use of length. But it's needed often enough, and is easy to provide, so use Seq while returing the type \n",
    "in APIs.\n",
    "\n",
    "# when do you choose to type a given funciton's return type as seq vs iterable vs traversable?\n",
    "\n",
    "try to use only a small set of collections: Set, Map, Seq, IndexedSeq\n",
    "I often violate this previous rule, though, using List in favour of Seq. It allows the caller to do pattern matching with the cons extractors\n",
    "use immutable types only (e.g. collection.immutable.Set, collection.immutable.IndexedSeq)\n",
    "do not use concrete implementations (Vector), but the general type (IndexedSeq) which gives the same API\n",
    "if you are encapsulating a mutable structure, only return Iterator instances, the caller can then easily generate a strict structure, e.g. by calling toList on it\n",
    "if your API is small and clearly tuned towards \"big data throughput\", use IndexedSeq"
   ]
  },
  {
   "cell_type": "markdown",
   "metadata": {
    "deletable": true,
    "editable": true
   },
   "source": [
    "# Iterators"
   ]
  },
  {
   "cell_type": "code",
   "execution_count": 2,
   "metadata": {
    "collapsed": false,
    "deletable": true,
    "editable": true
   },
   "outputs": [
    {
     "name": "stdout",
     "output_type": "stream",
     "text": [
      "0\n",
      "1\n",
      "4\n",
      "9\n",
      "16\n",
      "25\n",
      "36\n",
      "49\n",
      "64\n",
      "81\n"
     ]
    }
   ],
   "source": [
    "/*\n",
    "Iterators are the imperative version of streams. Like streams, iterators describe potentially\n",
    "infinite lists. However, there is no data-structure which contains the elements\n",
    "of an iterator. Instead, iterators allow one to step through the sequence,\n",
    "using two abstract methods next and hasNext.\n",
    "\n",
    "trait Iterator[+A] {\n",
    "def hasNext: Boolean\n",
    "def next: A\n",
    "}\n",
    " */\n",
    "\n",
    "val it : Iterator[Int] = Iterator.range(0,10)\n",
    "\n",
    "while(it.hasNext) {\n",
    "  val x = it.next()\n",
    "  println(x * x)\n",
    "}\n",
    "\n"
   ]
  },
  {
   "cell_type": "markdown",
   "metadata": {
    "deletable": true,
    "editable": true
   },
   "source": [
    "# Arrays"
   ]
  },
  {
   "cell_type": "code",
   "execution_count": 1,
   "metadata": {
    "collapsed": false,
    "deletable": true,
    "editable": true
   },
   "outputs": [
    {
     "name": "stdout",
     "output_type": "stream",
     "text": [
      "Mageswaran\n",
      "Aja\n",
      "Scala\n",
      "Mageswaran\n",
      "Aja\n",
      "Scala\n"
     ]
    }
   ],
   "source": [
    "// A fxed-size sequential collection of elements of the same type\n",
    "// Mutable\n",
    "\n",
    "val a = new Array[String](3)\n",
    "//a = new Array[String](4) //cant change the reference to the Array\n",
    "\n",
    "a(0) = \"Mageswaran\"\n",
    "a(1) = \"Aja\"\n",
    "a(2) = \"Scala\"\n",
    "\n",
    "a.foreach(println)\n",
    "\n",
    "val a1 = Array(\"Mageswaran\", \"Aja\", \"Scala\")\n",
    "a1.foreach(println)"
   ]
  },
  {
   "cell_type": "code",
   "execution_count": 1,
   "metadata": {
    "collapsed": false
   },
   "outputs": [
    {
     "name": "stdout",
     "output_type": "stream",
     "text": [
      "1\t2\t3\t\n",
      "4\t5\t6\t\n",
      "7\t8\t9\t\n",
      "1 2 3 4 5 6 7 8 9 "
     ]
    }
   ],
   "source": [
    "//Reference :    @ http://effprog.blogspot.com/2011/01/spiral-printing-of-two-dimensional.html */\n",
    "\n",
    "val dim = 3\n",
    "val mat = Array.ofDim[Int](dim,dim)\n",
    "\n",
    "var value: Int = 1\n",
    "for {i:Int  <- 0 to dim - 1\n",
    "     j: Int <- 0 to dim - 1\n",
    "} {\n",
    "  mat(i)(j) = value\n",
    "  value = value + 1\n",
    "  }\n",
    "\n",
    "\n",
    "for {i <- 0 to dim - 1\n",
    "     j <- 0 to dim - 1\n",
    "} {\n",
    "  print(mat(i)(j) + \"\\t\")\n",
    "  if (j == dim -1 ) println()\n",
    "}\n",
    "\n",
    "\n",
    "for {i <- 0 to dim -1\n",
    "     j <- 0 to dim -1\n",
    "} {\n",
    "  print(mat(i)(j) + \" \")\n",
    "}"
   ]
  },
  {
   "cell_type": "code",
   "execution_count": 2,
   "metadata": {
    "collapsed": false
   },
   "outputs": [
    {
     "name": "stdout",
     "output_type": "stream",
     "text": [
      " \n",
      " Passed arg num: [0] : Mageswaran\n",
      " \n",
      " Passed arg num: [1] : 1\n",
      " \n",
      " Passed arg num: [2] : Aja\n"
     ]
    }
   ],
   "source": [
    "def printArgs(args: String*) = {\n",
    "  var i : Int = 0\n",
    "  if (args.length < 1)\n",
    "    println(\"Please provide args for the program\")\n",
    "\n",
    "  for(arg <- args) {\n",
    "    println(\" \\n Passed arg num: [\" + i + \"] : \" + arg)\n",
    "    i = i + 1\n",
    "  }\n",
    "}\n",
    "\n",
    "printArgs(\"Mageswaran\", \"1\", \"Aja\")"
   ]
  },
  {
   "cell_type": "markdown",
   "metadata": {
    "deletable": true,
    "editable": true
   },
   "source": [
    "# Tuples"
   ]
  },
  {
   "cell_type": "code",
   "execution_count": 5,
   "metadata": {
    "collapsed": false,
    "deletable": true,
    "editable": true
   },
   "outputs": [
    {
     "name": "stdout",
     "output_type": "stream",
     "text": [
      "((1,one,3.5),four)\n"
     ]
    }
   ],
   "source": [
    "//A fixed number of items of diferent types together\n",
    "//Immutable\n",
    "val t = (1, \"one\", 3.5)\n",
    "\n",
    "val t1 = new Tuple6(0,1,t,3,\"four\",5.6)\n",
    "\n",
    "println(t1._3, t1._5)\n"
   ]
  },
  {
   "cell_type": "markdown",
   "metadata": {
    "deletable": true,
    "editable": true
   },
   "source": [
    "# Sets"
   ]
  },
  {
   "cell_type": "code",
   "execution_count": 6,
   "metadata": {
    "collapsed": false,
    "deletable": true,
    "editable": true
   },
   "outputs": [
    {
     "data": {
      "text/plain": [
       "Set(1, 6, 9, 2, 7, 3)"
      ]
     },
     "execution_count": 6,
     "metadata": {},
     "output_type": "execute_result"
    }
   ],
   "source": [
    "//A sequential collection of elements of the same type\n",
    "//Immutable and mutable\n",
    "//No duplicates.\n",
    "\n",
    "val s = Set(1,2,3)\n",
    "\n",
    "val s2 = s + 4\n",
    "\n",
    "val s3 = s2 + 2\n",
    "\n",
    "val s4 = s3 - 1\n",
    "\n",
    "s4.contains(1)\n",
    "\n",
    "val s5 = Set(9,7,6)\n",
    "\n",
    "s ++ s5\n"
   ]
  },
  {
   "cell_type": "markdown",
   "metadata": {
    "deletable": true,
    "editable": true
   },
   "source": [
    "# Map"
   ]
  },
  {
   "cell_type": "code",
   "execution_count": 7,
   "metadata": {
    "collapsed": false,
    "deletable": true,
    "editable": true
   },
   "outputs": [
    {
     "name": "stdout",
     "output_type": "stream",
     "text": [
      "one\n",
      "two\n",
      "three\n",
      "1.0\n",
      "2.0\n",
      "3.0\n"
     ]
    }
   ],
   "source": [
    "// A collection of key/value pairs\n",
    "// Immutable and mutable\n",
    "\n",
    "var m = Map[String, Float](\"one\" -> 1, \"two\" -> 2, \"three\" -> 3)\n",
    "\n",
    "//m = Map[Int, String]() //Can't do this\n",
    "\n",
    "\n",
    "m.keys.foreach(println)\n",
    "m.values.foreach(println)\n",
    "val m1 = m + (\"four\" -> 4)\n",
    "val m2 = m + (\"five\" -> 5)\n",
    "val m3 = m1 ++ m2\n",
    "\n",
    "\n",
    "val lengths = m3 map {t=> (t._1.length(), t._2)}"
   ]
  },
  {
   "cell_type": "markdown",
   "metadata": {
    "deletable": true,
    "editable": true
   },
   "source": [
    "# List\n",
    "- A sequential collection of elements of the same type\n",
    "- Immutable\n",
    "- Lists represent a linked list"
   ]
  },
  {
   "cell_type": "code",
   "execution_count": 8,
   "metadata": {
    "collapsed": false,
    "deletable": true,
    "editable": true
   },
   "outputs": [
    {
     "data": {
      "text/plain": [
       "List(1, 2, 3, 1, 2, 3, 5)"
      ]
     },
     "execution_count": 8,
     "metadata": {},
     "output_type": "execute_result"
    }
   ],
   "source": [
    "//Mutable List : ListBuffer, Linked List\n",
    "val l = 1::2::3::Nil\n",
    "val l1 = List(1,2,3)\n",
    "val l2 = l ::: l1\n",
    "l2 :+ 5"
   ]
  },
  {
   "cell_type": "code",
   "execution_count": 11,
   "metadata": {
    "collapsed": false,
    "deletable": true,
    "editable": true
   },
   "outputs": [
    {
     "data": {
      "text/plain": [
       "1|2|3"
      ]
     },
     "execution_count": 11,
     "metadata": {},
     "output_type": "execute_result"
    }
   ],
   "source": [
    "l1.mkString(\"|\")"
   ]
  },
  {
   "cell_type": "code",
   "execution_count": 10,
   "metadata": {
    "collapsed": false,
    "deletable": true,
    "editable": true
   },
   "outputs": [
    {
     "data": {
      "text/plain": [
       "(1,2,3)|(4,5,6)"
      ]
     },
     "execution_count": 10,
     "metadata": {},
     "output_type": "execute_result"
    }
   ],
   "source": [
    "val l3 = List((1,2,3),(4,5,6)).toArray\n",
    "l3.mkString(\"|\")"
   ]
  },
  {
   "cell_type": "code",
   "execution_count": 12,
   "metadata": {
    "collapsed": true,
    "deletable": true,
    "editable": true
   },
   "outputs": [],
   "source": [
    "val l4 = List(\"b\", \"c\", \"d\")"
   ]
  },
  {
   "cell_type": "code",
   "execution_count": 13,
   "metadata": {
    "collapsed": false,
    "deletable": true,
    "editable": true
   },
   "outputs": [
    {
     "data": {
      "text/plain": [
       "List(a, b, c, d)"
      ]
     },
     "execution_count": 13,
     "metadata": {},
     "output_type": "execute_result"
    }
   ],
   "source": [
    "\"a\" :: l4"
   ]
  },
  {
   "cell_type": "code",
   "execution_count": 14,
   "metadata": {
    "collapsed": false,
    "deletable": true,
    "editable": true
   },
   "outputs": [
    {
     "data": {
      "text/plain": [
       "List(a, b, c, d)"
      ]
     },
     "execution_count": 14,
     "metadata": {},
     "output_type": "execute_result"
    }
   ],
   "source": [
    "l4.::(\"a\")"
   ]
  },
  {
   "cell_type": "code",
   "execution_count": 15,
   "metadata": {
    "collapsed": true,
    "deletable": true,
    "editable": true
   },
   "outputs": [],
   "source": [
    "val head::tail = List(1,2,3,4,5)"
   ]
  },
  {
   "cell_type": "code",
   "execution_count": 16,
   "metadata": {
    "collapsed": false,
    "deletable": true,
    "editable": true
   },
   "outputs": [
    {
     "data": {
      "text/plain": [
       "1"
      ]
     },
     "execution_count": 16,
     "metadata": {},
     "output_type": "execute_result"
    }
   ],
   "source": [
    "head"
   ]
  },
  {
   "cell_type": "code",
   "execution_count": 17,
   "metadata": {
    "collapsed": false,
    "deletable": true,
    "editable": true
   },
   "outputs": [
    {
     "data": {
      "text/plain": [
       "List(2, 3, 4, 5)"
      ]
     },
     "execution_count": 17,
     "metadata": {},
     "output_type": "execute_result"
    }
   ],
   "source": [
    "tail"
   ]
  },
  {
   "cell_type": "code",
   "execution_count": 18,
   "metadata": {
    "collapsed": false,
    "deletable": true,
    "editable": true
   },
   "outputs": [
    {
     "name": "stdout",
     "output_type": "stream",
     "text": [
      "A two-tuple starting with 'Good'.\n",
      "This has two things: Guten and Tag!\n"
     ]
    }
   ],
   "source": [
    "val tupA = (\"Good\", \"Morning!\")\n",
    "val tupB = (\"Guten\", \"Tag!\")\n",
    "for (tup <- List(tupA, tupB)) {\n",
    "  tup match {\n",
    "    case (thingOne, thingTwo) if thingOne == \"Good\" =>\n",
    "      println(\"A two-tuple starting with 'Good'.\")\n",
    "    case (thingOne, thingTwo) =>\n",
    "      println(\"This has two things: \" + thingOne + \" and \" + thingTwo)\n",
    "  }\n",
    "}"
   ]
  },
  {
   "cell_type": "code",
   "execution_count": 19,
   "metadata": {
    "collapsed": false,
    "deletable": true,
    "editable": true
   },
   "outputs": [
    {
     "name": "stdout",
     "output_type": "stream",
     "text": [
      "Hi Alice!\n",
      "Hi Bob!\n",
      "Who are you, 32 year-old person named Charlie?\n"
     ]
    }
   ],
   "source": [
    "case class Person(name: String, age: Int)\n",
    "val alice = new Person(\"Alice\", 25)\n",
    "val bob = new Person(\"Bob\", 32)\n",
    "val charlie = new Person(\"Charlie\", 32)\n",
    "for (person <- List(alice, bob, charlie)) {\n",
    "  person match {\n",
    "    case Person(\"Alice\", 25) => println(\"Hi Alice!\")\n",
    "    case Person(\"Bob\", 32) => println(\"Hi Bob!\")\n",
    "    case Person(name, age) =>\n",
    "      println(\"Who are you, \" + age + \" year-old person named \" + name + \"?\")\n",
    "  }\n",
    "}"
   ]
  },
  {
   "cell_type": "code",
   "execution_count": 20,
   "metadata": {
    "collapsed": false,
    "deletable": true,
    "editable": true
   },
   "outputs": [
    {
     "name": "stdout",
     "output_type": "stream",
     "text": [
      "x = 1, y = 2.2\n"
     ]
    }
   ],
   "source": [
    "val list = List(1, 2.2, \"three\", 'four) //=> with help of apply\n",
    "list match {\n",
    "  case List(x, y, _*) => println(\"x = \"+ x +\", y = \" + y) //=> with help of unapplySeq\n",
    "  case _ => throw new Exception(\"No match! \" + list)\n",
    "}\n"
   ]
  },
  {
   "cell_type": "code",
   "execution_count": 21,
   "metadata": {
    "collapsed": false,
    "deletable": true,
    "editable": true
   },
   "outputs": [
    {
     "data": {
      "text/plain": [
       "30"
      ]
     },
     "execution_count": 21,
     "metadata": {},
     "output_type": "execute_result"
    }
   ],
   "source": [
    "//Huray! here goes Map-Reduce\n",
    "val list1 = List(0,1,2,3,4,5)\n",
    "list1.map(_ * 2).reduce(_ + _)"
   ]
  },
  {
   "cell_type": "code",
   "execution_count": 24,
   "metadata": {
    "collapsed": false,
    "deletable": true,
    "editable": true
   },
   "outputs": [
    {
     "data": {
      "text/plain": [
       "List(People, should, read, Programming, Scala)"
      ]
     },
     "execution_count": 24,
     "metadata": {},
     "output_type": "execute_result"
    }
   ],
   "source": [
    "val list2 = List(\"Programming\", \"Scala\")\n",
    "val list3 = \"People\" :: \"should\" :: \"read\" :: list2\n",
    "\n",
    "//In terms of performance, prepending is O(1).\n",
    "//Consider last item as first and start prepending the items in to the lost\n",
    "// :: operator binds to the right\n",
    "val list4 = (\"People\" :: (\"should\" :: (\"read\" :: list2)))\n",
    "val list5 = list2.::(\"read\").::(\"should\").::(\"People\")\n",
    "\n",
    "list5"
   ]
  },
  {
   "cell_type": "code",
   "execution_count": 25,
   "metadata": {
    "collapsed": false,
    "deletable": true,
    "editable": true
   },
   "outputs": [
    {
     "name": "stdout",
     "output_type": "stream",
     "text": [
      "1784293664\n",
      "1784293664\n"
     ]
    }
   ],
   "source": [
    "val list6 = List(1,2,3,4,5,6)\n",
    "\n",
    "//acc is supplied 10 intitally and keeps accumulating the value\n",
    "//currentElement is current element in the list\n",
    "val prod = list6.foldLeft(10)((suppliedAccmulator, currElement) => (suppliedAccmulator * currElement))\n",
    "\n",
    "//((((((10 * 1) * 2) * 3) * 4) * 5) * 6)\n",
    "//((((((10) * 2) * 3) * 4) * 5) * 6)\n",
    "//(((((20) * 3) * 4) * 5) * 6)\n",
    "//((((60) * 4) * 5) * 6)\n",
    "//(((240) * 5) * 6)\n",
    "//((1200) * 6)\n",
    "//(7200)\n",
    "\n",
    "//It turns out that foldLeft and reduceLeft have one very important advantage over their\n",
    "//“right-handed” brethren: they are tail-call recursive, and as such they can benefit from\n",
    "//tail-call optimization\n",
    "\n",
    "val prod1 = list6.foldRight(10)((suppliedAccmulator, currElement) => (suppliedAccmulator * currElement))\n",
    "\n",
    "//(1 * (2 * (3 * (4 * (5 * (6 * 10))))))\n",
    "//(1 * (2 * (3 * (4 * (5 * (60))))))\n",
    "//(1 * (2 * (3 * (4 * (300)))))\n",
    "//(1 * (2 * (3 * (1200))))\n",
    "//(1 * (2 * (3600)))\n",
    "//(1 * (7200))\n",
    "//(7200)\n",
    "\n",
    "println((1 to 1000000) reduceLeft(_ + _))\n",
    "println((1 to 1000000) reduceRight(_ + _))"
   ]
  },
  {
   "cell_type": "code",
   "execution_count": null,
   "metadata": {
    "collapsed": true,
    "deletable": true,
    "editable": true
   },
   "outputs": [],
   "source": []
  }
 ],
 "metadata": {
  "kernelspec": {
   "display_name": "ToreeSpark - Scala",
   "language": "scala",
   "name": "toreespark_scala"
  },
  "language_info": {
   "codemirror_mode": "text/x-scala",
   "file_extension": ".scala",
   "mimetype": "text/x-scala",
   "name": "scala",
   "pygments_lexer": "scala",
   "version": "2.11.8"
  }
 },
 "nbformat": 4,
 "nbformat_minor": 2
}
