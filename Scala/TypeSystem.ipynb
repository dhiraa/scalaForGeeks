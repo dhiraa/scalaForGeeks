{
 "cells": [
  {
   "cell_type": "code",
   "execution_count": 4,
   "metadata": {},
   "outputs": [
    {
     "name": "stdout",
     "output_type": "stream",
     "text": [
      "$line66.$read$$iw$$iw$InvariantClass@4564b443\n",
      "$line67.$read$$iw$$iw$CovariantClass@6ea5644\n",
      "$line67.$read$$iw$$iw$CovariantClass@3d7b047d\n",
      "$line68.$read$$iw$$iw$ContraVariantClass@3c9bd6bd\n",
      "$line68.$read$$iw$$iw$ContraVariantClass@5c07258a\n"
     ]
    }
   ],
   "source": [
    "class GrandParent //Super type\n",
    "class Parent extends GrandParent  //Type\n",
    "class Child extends Parent //Sub Type\n",
    "\n",
    "class InvariantClass[A] //I am an orphan, always single man army\n",
    "class CovariantClass[+A] //Let my children enjoy my property or Downwards types allowed\n",
    "class ContraVariantClass[-A] //I dont want any of child to bare my loans or upwards types are allowed\n",
    "// types of the function arguments are contravariant (i.e., -T1) and the return type is covariant (i.e., +R)\n",
    "\n",
    "def invariantMethod(obj: InvariantClass[Parent]) {println(obj)}\n",
    "def covariantClass(obj: CovariantClass[Parent]) {println(obj)}\n",
    "def contravariantClass(obj: ContraVariantClass[Parent]) {println(obj)}\n",
    "\n",
    "// invariantMethod(new InvariantClass[Child]) No Inherited class\n",
    "invariantMethod(new InvariantClass[Parent])\n",
    "//invariantMethod(new InvariantClass[GrandParent]) No parent class\n",
    "\n",
    "//covariantClass(new CovariantClass[GrandParent]) //No parent class\n",
    "covariantClass(new CovariantClass[Parent])\n",
    "covariantClass(new CovariantClass[Child])\n",
    "\n",
    "contravariantClass(new ContraVariantClass[GrandParent])\n",
    "contravariantClass(new ContraVariantClass[Parent])\n",
    "//contravariantClass(new ContraVariantClass[Child]) //No Inherited Class\n",
    "\n",
    "println()"
   ]
  },
  {
   "cell_type": "code",
   "execution_count": 5,
   "metadata": {},
   "outputs": [
    {
     "name": "stdout",
     "output_type": "stream",
     "text": [
      "2\n",
      "1\n",
      "1\n",
      "false\n",
      "4\n",
      "2\n",
      "4\n",
      "false\n"
     ]
    }
   ],
   "source": [
    "\n",
    "trait Vehicle {\n",
    "  val DIESEL: Int = 1\n",
    "  val PETROL: Int = 2\n",
    "  val WATER: Int = 3\n",
    "  //Change the val -> var and see what happens?\n",
    "  //Cannnot override mutable variables\n",
    "  val numOfWheels: Int = 2\n",
    "  val vehicleType: Int = DIESEL\n",
    "  val canFly: Boolean = false\n",
    "  val numPassengers: Int = 2\n",
    "}\n",
    "\n",
    "class Bullet extends Vehicle {\n",
    "  override val numPassengers = 1\n",
    "}\n",
    "\n",
    "class Car extends Vehicle {\n",
    "  override val numOfWheels = 4\n",
    "  override val vehicleType = PETROL\n",
    "  override val canFly = false\n",
    "  override val numPassengers = 4\n",
    "}\n",
    "\n",
    "val bullet = new Bullet\n",
    "println(bullet.numOfWheels)\n",
    "println(bullet vehicleType) //added to remove misc error\n",
    "println(bullet.numPassengers)\n",
    "println(bullet.canFly)\n",
    "\n",
    "val car = new Car\n",
    "println(car.numOfWheels)\n",
    "println(car vehicleType)\n",
    "println(car.numPassengers)\n",
    "println(car.canFly)\n",
    "\n",
    "class AjaV extends Car {\n",
    "  override val numOfWheels = 4\n",
    "  override val vehicleType = WATER\n",
    "  override val canFly = true\n",
    "  override val numPassengers = 8\n",
    "}\n",
    "class Avenger extends Bullet {\n",
    "  override val numPassengers = 2\n",
    "  override val vehicleType = PETROL\n",
    "}\n",
    "\n"
   ]
  },
  {
   "cell_type": "code",
   "execution_count": null,
   "metadata": {
    "collapsed": true
   },
   "outputs": [],
   "source": []
  }
 ],
 "metadata": {
  "kernelspec": {
   "display_name": "ToreeSpark - Scala",
   "language": "scala",
   "name": "toreespark_scala"
  },
  "language_info": {
   "codemirror_mode": "text/x-scala",
   "file_extension": ".scala",
   "mimetype": "text/x-scala",
   "name": "scala",
   "pygments_lexer": "scala",
   "version": "2.11.8"
  }
 },
 "nbformat": 4,
 "nbformat_minor": 2
}
