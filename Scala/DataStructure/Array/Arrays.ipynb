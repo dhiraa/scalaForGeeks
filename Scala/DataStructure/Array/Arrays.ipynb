{
 "cells": [
  {
   "cell_type": "code",
   "execution_count": 1,
   "metadata": {
    "collapsed": false,
    "deletable": true,
    "editable": true
   },
   "outputs": [
    {
     "name": "stdout",
     "output_type": "stream",
     "text": [
      "0\t0\t0\t\n",
      "0\t0\t0\t\n",
      "0\t0\t0\t\n",
      "\n",
      "Print the first row from the remaining rows \n",
      "0 0 0 \n",
      " Print the last column from the remaining columns \n",
      "0 0  \n",
      "Print the last row from the remaining rows \n",
      "0 0  \n",
      "Print the first column from the remaining columns \n",
      "0 \n",
      "\n",
      "\n",
      "1\n",
      "1\n",
      "1\n",
      "1\n",
      "\n",
      "Print the first row from the remaining rows \n",
      "0 \n",
      " Print the last column from the remaining columns \n",
      " \n",
      "Print the last row from the remaining rows \n",
      " \n",
      "Print the first column from the remaining columns \n",
      "\n",
      "\n",
      "\n",
      "2\n",
      "0\n",
      "2\n",
      "0\n"
     ]
    }
   ],
   "source": [
    "//Matrix spiral print\n",
    "val dim = 3\n",
    "val mat = Array.ofDim[Int](dim,dim)\n",
    "\n",
    "for {i <- 0 to dim - 1\n",
    "     j <- 0 to dim - 1\n",
    "} {\n",
    "  print(mat(i)(j) + \"\\t\")\n",
    "  if (j == dim -1 ) println()\n",
    "}\n",
    "\n",
    "var startingRowIndex = 0 //k\n",
    "var endRowIndex = dim - 1 //m\n",
    "var startingColIndex = 0 //l\n",
    "var endColIndex = dim -1  //n\n",
    "while ( startingRowIndex <= endRowIndex &&\n",
    "  startingColIndex <= endColIndex)\n",
    "{\n",
    "  println( \"\\nPrint the first row from the remaining rows \")\n",
    "  for (i <- startingColIndex to endColIndex) {\n",
    "    print(mat(startingRowIndex)(i) + \" \")\n",
    "  }\n",
    "  startingRowIndex += 1\n",
    "  println( \"\\n Print the last column from the remaining columns \")\n",
    "  for ( i <- startingRowIndex to endRowIndex) {\n",
    "    print(mat(i)(endColIndex) + \" \")\n",
    "  }\n",
    "  endColIndex -= 1\n",
    "  println( \" \\nPrint the last row from the remaining rows \")\n",
    "  for (i <- endColIndex to startingColIndex by -1 ) {\n",
    "    print(mat(endRowIndex)(i) + \" \")\n",
    "  }\n",
    "  endRowIndex -= 1\n",
    "  println( \" \\nPrint the first column from the remaining columns \")\n",
    "  for (i <- endRowIndex to startingRowIndex by -1) {\n",
    "    print(mat(i)(startingColIndex) + \" \")\n",
    "  }\n",
    "  startingColIndex += 1\n",
    "\n",
    "  println()\n",
    "  println()\n",
    "  println()\n",
    "  println(startingRowIndex)\n",
    "  println(endRowIndex)\n",
    "\n",
    "  println(startingColIndex)\n",
    "  println(endColIndex)\n",
    "}\n"
   ]
  },
  {
   "cell_type": "markdown",
   "metadata": {
    "collapsed": true,
    "deletable": true,
    "editable": true
   },
   "source": [
    "### Count pairs from two sorted arrays whose sum is equal to a given value x"
   ]
  },
  {
   "cell_type": "markdown",
   "metadata": {
    "deletable": true,
    "editable": true
   },
   "source": [
    "Input : arr1[] = {1, 3, 5, 7}  \n",
    "        arr2[] = {2, 3, 5, 8}   \n",
    "        x = 10  \n",
    "  \n",
    "Output : 2  \n",
    "The pairs are:  \n",
    "(5, 5) and (7, 3)   \n",
    "  \n",
    "Input : arr1[] = {1, 2, 3, 4, 5, 7, 11}   \n",
    "        arr2[] = {2, 3, 4, 5, 6, 8, 12}   \n",
    "        x = 9  \n",
    "  \n",
    "Output : 5"
   ]
  },
  {
   "cell_type": "code",
   "execution_count": 57,
   "metadata": {
    "collapsed": false,
    "deletable": true,
    "editable": true
   },
   "outputs": [
    {
     "data": {
      "text/plain": [
       "4"
      ]
     },
     "execution_count": 57,
     "metadata": {},
     "output_type": "execute_result"
    }
   ],
   "source": [
    "val arr1 = Array(1, 2, 3, 4, 5, 7, 11)\n",
    "val arr2 = Array(2, 3, 4, 5, 6, 8, 12)\n",
    "\n",
    "def countPairsNaive(a1: Array[Int], a2: Array[Int], sum: Int) = {\n",
    "    val a2CutOff = sum - a1(0)\n",
    "    val a1CutOff = sum - a2(0)\n",
    "    val filteredA1: Array[Int] = a1.filter(_ <= a1CutOff)\n",
    "    val filteredA2: Array[Int] = a2.filter( _ <= a2CutOff)\n",
    "    \n",
    "    val count: Array[Array[Int]] = filteredA1.map(x1 => filteredA2.map(x2 =>\n",
    "                                                  x1 + x2))\n",
    "    count.flatten.filter(_==sum).size\n",
    "}\n",
    "\n",
    "countPairsNaive(arr1,arr2,10)"
   ]
  },
  {
   "cell_type": "code",
   "execution_count": 58,
   "metadata": {
    "collapsed": false,
    "deletable": true,
    "editable": true
   },
   "outputs": [
    {
     "data": {
      "text/plain": [
       "5"
      ]
     },
     "execution_count": 58,
     "metadata": {},
     "output_type": "execute_result"
    }
   ],
   "source": [
    "countPairsNaive(arr1,arr2,9)"
   ]
  },
  {
   "cell_type": "code",
   "execution_count": 53,
   "metadata": {
    "collapsed": true,
    "deletable": true,
    "editable": true
   },
   "outputs": [],
   "source": [
    "//O(m+n)\n",
    "def countPairs(a1: Array[Int], a2: Array[Int], sum: Int) = {\n",
    "    val a1Set: Set[Int] = a1.toSet\n",
    "    a2.map(x => if(a1Set(sum - x)) 1 else 0).sum\n",
    "}"
   ]
  },
  {
   "cell_type": "code",
   "execution_count": 55,
   "metadata": {
    "collapsed": false,
    "deletable": true,
    "editable": true
   },
   "outputs": [
    {
     "data": {
      "text/plain": [
       "4"
      ]
     },
     "execution_count": 55,
     "metadata": {},
     "output_type": "execute_result"
    }
   ],
   "source": [
    "countPairs(arr1,arr2,10)"
   ]
  },
  {
   "cell_type": "code",
   "execution_count": 56,
   "metadata": {
    "collapsed": false,
    "deletable": true,
    "editable": true
   },
   "outputs": [
    {
     "data": {
      "text/plain": [
       "5"
      ]
     },
     "execution_count": 56,
     "metadata": {},
     "output_type": "execute_result"
    }
   ],
   "source": [
    "countPairs(arr1,arr2,9)"
   ]
  },
  {
   "cell_type": "code",
   "execution_count": 74,
   "metadata": {
    "collapsed": false,
    "deletable": true,
    "editable": true
   },
   "outputs": [
    {
     "data": {
      "text/plain": [
       "Name: Unknown Error\n",
       "Message: <console>:46: error: not found: value i\n",
       "                   l = i + 1;\n",
       "                       ^\n",
       "<console>:54: error: not found: value i\n",
       "                   i = i+1\n",
       "                   ^\n",
       "<console>:64: error: method countPairs has return statement; needs result type\n",
       "           return count;\n",
       "           ^\n",
       "StackTrace: "
      ]
     },
     "execution_count": 74,
     "metadata": {},
     "output_type": "execute_result"
    }
   ],
   "source": [
    "//O(m+n)\n",
    "def countPairs(a1: Array[Int], a2: Array[Int], sum: Int) = {\n",
    "    var count = 0;    \n",
    "    var l = 0;\n",
    "    val m = a1.size\n",
    "    val n = a2.size\n",
    "    var r = a2.size - 1;\n",
    "     \n",
    "    // traverse 'arr1[]' from left to right\n",
    "    // traverse 'arr2[]' from right to left\n",
    "    while (l < m && r >= 0)\n",
    "    {\n",
    "        // if this sum is equal to 'x', then\n",
    "        // increment 'l', decrement 'r' and\n",
    "        // increment 'count'\n",
    "        if ((arr1(l) + arr2(r) == sum))\n",
    "        {\n",
    "            l = i + 1; \n",
    "            r = r - 1;\n",
    "            count = count + 1;            \n",
    "        }\n",
    "        // if this sum is less than x, then\n",
    "        // increment l\n",
    "        else if ((arr1(l) + arr2(r) < sum))\n",
    "        {\n",
    "            i = i+1\n",
    "        }\n",
    "        // else decrement 'r'    \n",
    "        else\n",
    "        {\n",
    "            r = r-1;  \n",
    "        }\n",
    "    }\n",
    "     \n",
    "    // required count of pairs        \n",
    "    return count;\n",
    "}"
   ]
  },
  {
   "cell_type": "code",
   "execution_count": null,
   "metadata": {
    "collapsed": true,
    "deletable": true,
    "editable": true
   },
   "outputs": [],
   "source": []
  },
  {
   "cell_type": "markdown",
   "metadata": {
    "collapsed": true,
    "deletable": true,
    "editable": true
   },
   "source": [
    "## Search an element in an unsorted array using minimum number of comparisons\n",
    "Given an array of n distinct integers and an element x. Search the element x in the array using minimum number of comparisons. Any sort of comparison will contribute 1 to the count of comparisons. For example, the condition used to terminate a loop, will also contribute 1 to the count of comparisons each time it gets executed. Expressions like while (n) {n–;} also contribute to the count of comparisons as value of n is being compared internally so as to decide whether or not to terminate the loop.\n",
    "\n",
    "Examples:\n",
    "\n",
    "Input : arr[] = {4, 6, 1, 5, 8}, \n",
    "        x = 1\n",
    "Output : Found\n",
    "\n",
    "Input : arr[] = {10, 3, 12, 7, 2, 11, 9}, \n",
    "        x = 15\n",
    "Output : Not Found\n",
    "\n",
    "http://www.geeksforgeeks.org/search-element-unsorted-array-using-minimum-number-comparisons/"
   ]
  },
  {
   "cell_type": "code",
   "execution_count": null,
   "metadata": {
    "collapsed": true,
    "deletable": true,
    "editable": true
   },
   "outputs": [],
   "source": [
    "//Pseudo code\n",
    "search(arr, x):\n",
    "    n = arr.size  \n",
    "    if(x == arr[n-1])\n",
    "        return true\n",
    "    backup = arr[n-1]\n",
    "    arr[n-1] = x\n",
    "    i = 0\n",
    "    while(true) {\n",
    "        if(x == arr[i])\n",
    "            arr[n-1] = backup //restore\n",
    "            return (i < n-1)\n",
    "        i++\n",
    "    }"
   ]
  },
  {
   "cell_type": "code",
   "execution_count": 32,
   "metadata": {
    "collapsed": false,
    "deletable": true,
    "editable": true
   },
   "outputs": [],
   "source": [
    "import scala.collection.mutable.ArrayBuffer\n",
    "def serach(arr: ArrayBuffer[Int], x: Int): Boolean = {\n",
    "    val n = arr.size\n",
    "    if(x==arr(n-1))\n",
    "        return true\n",
    "    val backup = arr(n-1)\n",
    "    arr(n-1) = x\n",
    "    var i = 0\n",
    "    while(true) {\n",
    "        if(x == arr(i))\n",
    "        {\n",
    "            arr(n-1) = backup\n",
    "            return (i<n-1)\n",
    "        }\n",
    "        i = i+1\n",
    "    }\n",
    "    //Never reached here\n",
    "    return false\n",
    "}"
   ]
  },
  {
   "cell_type": "code",
   "execution_count": 33,
   "metadata": {
    "collapsed": false,
    "deletable": true,
    "editable": true
   },
   "outputs": [
    {
     "data": {
      "text/plain": [
       "true"
      ]
     },
     "execution_count": 33,
     "metadata": {},
     "output_type": "execute_result"
    }
   ],
   "source": [
    "val abuf = ArrayBuffer(4, 6, 1, 5, 8)\n",
    "serach(abuf, 5)"
   ]
  },
  {
   "cell_type": "code",
   "execution_count": 34,
   "metadata": {
    "collapsed": false,
    "deletable": true,
    "editable": true
   },
   "outputs": [
    {
     "data": {
      "text/plain": [
       "ArrayBuffer(4, 6, 1, 5, 8)"
      ]
     },
     "execution_count": 34,
     "metadata": {},
     "output_type": "execute_result"
    }
   ],
   "source": [
    "abuf"
   ]
  },
  {
   "cell_type": "code",
   "execution_count": 35,
   "metadata": {
    "collapsed": false,
    "deletable": true,
    "editable": true
   },
   "outputs": [
    {
     "data": {
      "text/plain": [
       "false"
      ]
     },
     "execution_count": 35,
     "metadata": {},
     "output_type": "execute_result"
    }
   ],
   "source": [
    "serach(abuf, 15)"
   ]
  },
  {
   "cell_type": "code",
   "execution_count": 36,
   "metadata": {
    "collapsed": false,
    "deletable": true,
    "editable": true
   },
   "outputs": [
    {
     "data": {
      "text/plain": [
       "ArrayBuffer(4, 6, 1, 5, 8)"
      ]
     },
     "execution_count": 36,
     "metadata": {},
     "output_type": "execute_result"
    }
   ],
   "source": [
    "abuf"
   ]
  },
  {
   "cell_type": "code",
   "execution_count": null,
   "metadata": {
    "collapsed": true,
    "deletable": true,
    "editable": true
   },
   "outputs": [],
   "source": []
  }
 ],
 "metadata": {
  "kernelspec": {
   "display_name": "ToreeSpark - Scala",
   "language": "scala",
   "name": "toreespark_scala"
  },
  "language_info": {
   "codemirror_mode": "text/x-scala",
   "file_extension": ".scala",
   "mimetype": "text/x-scala",
   "name": "scala",
   "pygments_lexer": "scala",
   "version": "2.11.8"
  }
 },
 "nbformat": 4,
 "nbformat_minor": 2
}
