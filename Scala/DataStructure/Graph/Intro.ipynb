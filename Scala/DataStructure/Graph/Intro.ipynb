{
 "cells": [
  {
   "cell_type": "markdown",
   "metadata": {},
   "source": [
    "## References:\n",
    "- https://github.com/vkostyukov/scalacaster/blob/master/src/graph/Graph.scala\n",
    "- https://github.com/pathikrit/scalgos/blob/master/src/main/scala/com/github/pathikrit/scalgos/Graph.scala\n",
    "- https://github.com/vkostyukov/scalacaster/blob/master/src/graph/Graph.scala\n",
    "- https://github.com/garyaiki/Scala-Algorithms/tree/master/src/main/scala/org/gs/graph\n",
    "- https://github.com/salilsurendran/code/blob/master/Graphs/src/com/salil/graphs/Graph.scala"
   ]
  },
  {
   "cell_type": "markdown",
   "metadata": {},
   "source": [
    "Geeksforgeeks: http://www.geeksforgeeks.org/graph-and-its-representations/"
   ]
  },
  {
   "cell_type": "code",
   "execution_count": 1,
   "metadata": {},
   "outputs": [],
   "source": [
    "import scala.collection.{mutable => mutable}"
   ]
  },
  {
   "cell_type": "code",
   "execution_count": 310,
   "metadata": {},
   "outputs": [],
   "source": [
    "sealed trait GraphType\n",
    "//Unique id\n",
    "case class Vertex(id: Long, var weight: Double = 0.0) extends GraphType{\n",
    "    override def toString = (id.toString)// + \"/\" +  weight)\n",
    "}\n",
    "\n",
    "case class Edge(node1: Vertex, node2: Vertex, weight: Double) extends GraphType\n",
    "\n",
    "//Mutable graph\n",
    "class Graph() {\n",
    "    var vertices = Set[Vertex]()\n",
    "    var edges = List[Edge]()\n",
    "    //Maintains a map of vertices where each vertex(key) is connected to a list of vertices(value)\n",
    "    var vertexMap = Map[Vertex,List[Vertex]]()\n",
    "    \n",
    "    def addVertex(v: Vertex) = {\n",
    "        val existingVertex = vertices.filter(_.id == v.id)\n",
    "        if (existingVertex.size == 0)\n",
    "        {\n",
    "            println(\"Info : Creating Vertex with given id %d\".format(v.id))\n",
    "            vertices = vertices + v\n",
    "        }\n",
    "        else\n",
    "            println(\"Warning : Found Vertex with given id %d\".format(v.id))\n",
    "    }\n",
    "    \n",
    "    def addVertexWith(id: Long, weight: Double = 0.0) = this.addVertex(Vertex(id, weight))\n",
    "    \n",
    "    private def addEdge(e: Edge): Unit = {\n",
    "        edges = e :: edges\n",
    "        vertexMap += e.node1 -> (e.node2::vertexMap.getOrElse(e.node1, Nil))\n",
    "    }\n",
    "\n",
    "    \n",
    "    def addEdgeWithIds(srcVertexId: Long, dstVertexId: Long, weight: Double = 0.0): Unit = {\n",
    "        this.addVertexWith(srcVertexId)\n",
    "        this.addVertexWith(dstVertexId)\n",
    "        \n",
    "        val srcVertex = vertices.filter(_.id == srcVertexId) //assume unique ids\n",
    "        val dstVertex = vertices.filter(_.id == dstVertexId)\n",
    "        assert(srcVertex.size != 0, \"No vertex found for vertex id: {%d}\".format(srcVertexId))\n",
    "        assume(srcVertex.size == 1)\n",
    "        assert(dstVertex.size != 0, \"No vertex found for vertex id: {%d}\".format(dstVertexId))\n",
    "        assume(dstVertex.size == 1)\n",
    "        this.addEdge(Edge(srcVertex.head, dstVertex.head, weight))\n",
    "    }\n",
    "    \n",
    "    def updateWeight(vertexId: Long, weight: Double) = {\n",
    "        val srcVertex = vertices.filter(_.id == vertexId)\n",
    "        assert(srcVertex.size != 0, \"No vertex found for vertex id: {%d}\".format(vertexId))\n",
    "        assume(srcVertex.size == 1)\n",
    "        srcVertex.head.weight = weight\n",
    "    }\n",
    "    override def toString = vertexMap.toString\n",
    "    \n",
    "    def getInfo =  vertexMap.foreach(xy => println(xy._1 + \" ---> \" + xy._2))\n",
    "}\n",
    "\n"
   ]
  },
  {
   "cell_type": "code",
   "execution_count": 311,
   "metadata": {},
   "outputs": [],
   "source": [
    "object Graph {\n",
    "    def apply() = new Graph()\n",
    "}"
   ]
  },
  {
   "cell_type": "code",
   "execution_count": 312,
   "metadata": {},
   "outputs": [
    {
     "data": {
      "text/plain": [
       "Map()"
      ]
     },
     "execution_count": 312,
     "metadata": {},
     "output_type": "execute_result"
    }
   ],
   "source": [
    "//Create a graph \n",
    "val g = Graph()\n",
    "g"
   ]
  },
  {
   "cell_type": "code",
   "execution_count": 313,
   "metadata": {},
   "outputs": [
    {
     "name": "stdout",
     "output_type": "stream",
     "text": [
      "Info : Creating Vertex with given id 0\n",
      "Info : Creating Vertex with given id 1\n"
     ]
    }
   ],
   "source": [
    "//Add some vertex\n",
    "g.addVertex(Vertex(0, 10))\n",
    "g.addVertex(Vertex(1, 11))"
   ]
  },
  {
   "cell_type": "code",
   "execution_count": 314,
   "metadata": {},
   "outputs": [
    {
     "name": "stdout",
     "output_type": "stream",
     "text": [
      "Warning : Found Vertex with given id 1\n"
     ]
    }
   ],
   "source": [
    "//Fail safe\n",
    "g.addVertex(Vertex(1, 11))"
   ]
  },
  {
   "cell_type": "code",
   "execution_count": 315,
   "metadata": {},
   "outputs": [
    {
     "data": {
      "text/plain": [
       "Set(0, 1)"
      ]
     },
     "execution_count": 315,
     "metadata": {},
     "output_type": "execute_result"
    }
   ],
   "source": [
    "//Check vertices\n",
    "g.vertices"
   ]
  },
  {
   "cell_type": "code",
   "execution_count": 316,
   "metadata": {},
   "outputs": [
    {
     "data": {
      "text/plain": [
       "Set(0, 1)"
      ]
     },
     "execution_count": 316,
     "metadata": {},
     "output_type": "execute_result"
    }
   ],
   "source": [
    "//Update the weights\n",
    "g.updateWeight(0, 0)\n",
    "g.updateWeight(1, 1)\n",
    "g.vertices"
   ]
  },
  {
   "cell_type": "code",
   "execution_count": 317,
   "metadata": {},
   "outputs": [
    {
     "name": "stdout",
     "output_type": "stream",
     "text": [
      "Warning : Found Vertex with given id 0\n",
      "Warning : Found Vertex with given id 1\n"
     ]
    }
   ],
   "source": [
    "//Add an edge 0 ---> 1\n",
    "g.addEdgeWithIds(0,1,0.1)"
   ]
  },
  {
   "cell_type": "code",
   "execution_count": 318,
   "metadata": {},
   "outputs": [
    {
     "data": {
      "text/plain": [
       "Map(0 -> List(1))"
      ]
     },
     "execution_count": 318,
     "metadata": {},
     "output_type": "execute_result"
    }
   ],
   "source": [
    "g"
   ]
  },
  {
   "cell_type": "code",
   "execution_count": 319,
   "metadata": {},
   "outputs": [
    {
     "name": "stdout",
     "output_type": "stream",
     "text": [
      "Warning : Found Vertex with given id 0\n",
      "Info : Creating Vertex with given id 2\n"
     ]
    }
   ],
   "source": [
    "//Fail safe\n",
    "g.addEdgeWithIds(0,2,0.1)"
   ]
  },
  {
   "cell_type": "markdown",
   "metadata": {},
   "source": [
    "![](http://www.geeksforgeeks.org/wp-content/uploads/graph_representation12.png)"
   ]
  },
  {
   "cell_type": "code",
   "execution_count": 323,
   "metadata": {},
   "outputs": [
    {
     "name": "stdout",
     "output_type": "stream",
     "text": [
      "Info : Creating Vertex with given id 0\n",
      "Info : Creating Vertex with given id 1\n",
      "Warning : Found Vertex with given id 0\n",
      "Info : Creating Vertex with given id 4\n",
      "Warning : Found Vertex with given id 1\n",
      "Info : Creating Vertex with given id 2\n",
      "Warning : Found Vertex with given id 1\n",
      "Info : Creating Vertex with given id 3\n",
      "Warning : Found Vertex with given id 1\n",
      "Warning : Found Vertex with given id 4\n",
      "Warning : Found Vertex with given id 2\n",
      "Warning : Found Vertex with given id 3\n",
      "Warning : Found Vertex with given id 3\n",
      "Warning : Found Vertex with given id 4\n"
     ]
    }
   ],
   "source": [
    "val g = Graph()\n",
    "// 0 -> 1,4\n",
    "g.addEdgeWithIds(0, 1);\n",
    "g.addEdgeWithIds(0, 4);\n",
    "// 1 -> 2,3,4\n",
    "g.addEdgeWithIds(1, 2);\n",
    "g.addEdgeWithIds(1, 3);\n",
    "g.addEdgeWithIds(1, 4);\n",
    "//2 -> 3\n",
    "g.addEdgeWithIds(2, 3);\n",
    "//3 -> 4\n",
    "g.addEdgeWithIds(3, 4);"
   ]
  },
  {
   "cell_type": "markdown",
   "metadata": {},
   "source": [
    "![](http://www.geeksforgeeks.org/wp-content/uploads/graph_representation12.png)"
   ]
  },
  {
   "cell_type": "code",
   "execution_count": 324,
   "metadata": {},
   "outputs": [
    {
     "name": "stdout",
     "output_type": "stream",
     "text": [
      "0 ---> List(4, 1)\n",
      "1 ---> List(4, 3, 2)\n",
      "2 ---> List(3)\n",
      "3 ---> List(4)\n"
     ]
    }
   ],
   "source": [
    "g.getInfo"
   ]
  },
  {
   "cell_type": "code",
   "execution_count": null,
   "metadata": {
    "collapsed": true
   },
   "outputs": [],
   "source": []
  }
 ],
 "metadata": {
  "kernelspec": {
   "display_name": "ToreeSpark - Scala",
   "language": "scala",
   "name": "toreespark_scala"
  },
  "language_info": {
   "codemirror_mode": "text/x-scala",
   "file_extension": ".scala",
   "mimetype": "text/x-scala",
   "name": "scala",
   "pygments_lexer": "scala",
   "version": "2.11.8"
  }
 },
 "nbformat": 4,
 "nbformat_minor": 2
}
