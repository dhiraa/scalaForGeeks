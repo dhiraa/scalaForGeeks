{
 "cells": [
  {
   "cell_type": "markdown",
   "metadata": {},
   "source": [
    "https://mauricio.github.io/2013/11/25/learning-scala-by-building-scala-lists.html   \n",
    "https://mauricio.github.io/2013/12/08/learning-scala-by-building-scala-lists-part-2.html"
   ]
  },
  {
   "cell_type": "code",
   "execution_count": 1,
   "metadata": {
    "collapsed": true
   },
   "outputs": [],
   "source": [
    "sealed trait List[+A]\n",
    "case object Nil extends List[Nothing]\n",
    "case class Cons[+A](head: A, tail: List[A]) extends List[A]"
   ]
  },
  {
   "cell_type": "code",
   "execution_count": 2,
   "metadata": {},
   "outputs": [],
   "source": [
    "object List {\n",
    "    def apply[A](as: A*): List[A] = {\n",
    "        if(as.isEmpty) Nil\n",
    "        else Cons(as.head, apply(as.tail: _*))\n",
    "    }\n",
    "    \n",
    "    def sum(list: List[Int]): Int = list match {\n",
    "        case Nil => 0\n",
    "        case Cons(head, tail) => head + sum(tail)\n",
    "    }\n",
    "    \n",
    "}"
   ]
  },
  {
   "cell_type": "markdown",
   "metadata": {},
   "source": [
    "### Variadic functions in Scala\n",
    "\n",
    "The function apply in the object List is a variadic function, meaning it accepts zero\n",
    "or more arguments of type A:\n",
    "\n",
    "```scala\n",
    "def apply[A](as: A*): List[A] =\n",
    "    if (as.isEmpty) Nil\n",
    "    else Cons(as.head, apply(as.tail: _*))\n",
    "```\n",
    "\n",
    "Variadic functions are just providing a little syntactic sugar for creating and passing\n",
    "a Seq of elements explicitly. \n",
    "\n",
    "The special _* type annotation allows us to pass a Seq to a\n",
    "variadic method."
   ]
  },
  {
   "cell_type": "code",
   "execution_count": 3,
   "metadata": {},
   "outputs": [
    {
     "data": {
      "text/plain": [
       "3"
      ]
     },
     "execution_count": 3,
     "metadata": {},
     "output_type": "execute_result"
    }
   ],
   "source": [
    "val x = List(1,2,3,4,5) match {\n",
    "    case Cons(x, Cons(2, Cons(4, _))) => x\n",
    "    case Nil => 42\n",
    "    case Cons(x, Cons(y, Cons(3, Cons(4, _)))) => x + y //This gets selected!\n",
    "    case Cons(h, t) => h + List.sum(t)\n",
    "    case _ => 101\n",
    "}\n",
    "x"
   ]
  },
  {
   "cell_type": "code",
   "execution_count": 4,
   "metadata": {},
   "outputs": [],
   "source": [
    "def setHead[A](value: A, list: List[A]): List[A] =  list match {\n",
    "    case Nil => Cons(value, Nil)\n",
    "    case Cons(head, tail) => Cons(value, tail)\n",
    "}"
   ]
  },
  {
   "cell_type": "code",
   "execution_count": 5,
   "metadata": {},
   "outputs": [
    {
     "data": {
      "text/plain": [
       "Cons(6,Cons(2,Cons(3,Cons(4,Cons(5,Nil)))))"
      ]
     },
     "execution_count": 5,
     "metadata": {},
     "output_type": "execute_result"
    }
   ],
   "source": [
    "setHead(6, List(1,2,3,4,5))"
   ]
  },
  {
   "cell_type": "code",
   "execution_count": 6,
   "metadata": {},
   "outputs": [],
   "source": [
    "def drop[A](list: List[A]): List[A] = list match {\n",
    "    case Nil => Nil\n",
    "    case Cons(head, tail) => tail\n",
    "}"
   ]
  },
  {
   "cell_type": "code",
   "execution_count": 7,
   "metadata": {},
   "outputs": [
    {
     "data": {
      "text/plain": [
       "Cons(2,Cons(3,Cons(4,Cons(5,Nil))))"
      ]
     },
     "execution_count": 7,
     "metadata": {},
     "output_type": "execute_result"
    }
   ],
   "source": [
    "drop(List(1,2,3,4,5))"
   ]
  },
  {
   "cell_type": "code",
   "execution_count": 8,
   "metadata": {},
   "outputs": [],
   "source": [
    "//Implement dropWhile, which removes elements from the List prefix as long as they\n",
    "// match a predicate.\n",
    "def dropWhile[A](l: List[A], f: A => Boolean): List[A] = l match {\n",
    "    case Nil => Nil\n",
    "    case Cons(head: A, tail: List[A]) => \n",
    "      if(f(head)) dropWhile(tail, f) else Cons(head, dropWhile(tail, f))\n",
    "}"
   ]
  },
  {
   "cell_type": "code",
   "execution_count": 9,
   "metadata": {},
   "outputs": [
    {
     "data": {
      "text/plain": [
       "Cons(1,Cons(3,Cons(5,Cons(7,Nil))))"
      ]
     },
     "execution_count": 9,
     "metadata": {},
     "output_type": "execute_result"
    }
   ],
   "source": [
    "dropWhile(List(1,2,3,4,5,6,7,8), (x:Int) => x%2 == 0)"
   ]
  },
  {
   "cell_type": "code",
   "execution_count": 10,
   "metadata": {
    "collapsed": true
   },
   "outputs": [],
   "source": [
    "def append[A](a1: List[A], a2: List[A]): List[A] =\n",
    "    a1 match {\n",
    "        case Nil => a2\n",
    "        case Cons(h,t) => Cons(h, append(t, a2))\n",
    "    }"
   ]
  },
  {
   "cell_type": "code",
   "execution_count": 11,
   "metadata": {},
   "outputs": [
    {
     "data": {
      "text/plain": [
       "Cons(1,Cons(2,Cons(3,Cons(4,Nil))))"
      ]
     },
     "execution_count": 11,
     "metadata": {},
     "output_type": "execute_result"
    }
   ],
   "source": [
    "def init[A](l: List[A]): List[A] = l match {\n",
    "    case Nil => Nil\n",
    "    case Cons(head, Nil) => Nil\n",
    "    case Cons(head, tail) => Cons(head, init(tail) )\n",
    "}\n",
    "\n",
    "init(List(1,2,3,4,5))"
   ]
  },
  {
   "cell_type": "markdown",
   "metadata": {},
   "source": [
    "### Improving type inference for higher-order functions1"
   ]
  },
  {
   "cell_type": "code",
   "execution_count": 12,
   "metadata": {},
   "outputs": [
    {
     "data": {
      "text/plain": [
       "Cons(2,Cons(4,Cons(6,Cons(8,Nil))))"
      ]
     },
     "execution_count": 12,
     "metadata": {},
     "output_type": "execute_result"
    }
   ],
   "source": [
    "def dropWhileCurried[A](l: List[A])(f: A => Boolean): List[A] = l match {\n",
    "    case Nil => Nil\n",
    "    case Cons(head: A, tail: List[A]) => \n",
    "      if(f(head)) dropWhile(tail, f) else Cons(head, dropWhile(tail, f))\n",
    "}\n",
    "\n",
    "dropWhileCurried(List(1,2,3,4,5,6,7,8))(x => x%2 != 0)"
   ]
  },
  {
   "cell_type": "markdown",
   "metadata": {
    "collapsed": true
   },
   "source": [
    "One way of describing what foldRight does is that it replaces the constructors of the list, Nil and Cons, with z and f, illustrated here:\n",
    "```scala\n",
    "Cons(1, Cons(2, Nil))\n",
    "f   (1, f   (2, z ) )\n",
    "\n",
    "\n",
    "foldRight(Cons(1, Cons(2, Cons(3, Nil))), 0)((x,y) => x + y)\n",
    "1 + foldRight(Cons(2, Cons(3, Nil)), 0)((x,y) => x + y)\n",
    "1 + (2 + foldRight(Cons(3, Nil), 0)((x,y) => x + y))\n",
    "1 + (2 + (3 + (foldRight(Nil, 0)((x,y) => x + y))))\n",
    "1 + (2 + (3 + (0)))\n",
    "6\n",
    "\n",
    "```"
   ]
  },
  {
   "cell_type": "code",
   "execution_count": 46,
   "metadata": {},
   "outputs": [],
   "source": [
    "def foldRight[A,B](as: List[A], z: B)(f: (A,B) => B): B = as match {\n",
    "    case Nil => z\n",
    "    case Cons(head, tail) => f(head, foldRight(tail, z)(f))\n",
    "}"
   ]
  },
  {
   "cell_type": "code",
   "execution_count": 14,
   "metadata": {},
   "outputs": [
    {
     "data": {
      "text/plain": [
       "15"
      ]
     },
     "execution_count": 14,
     "metadata": {},
     "output_type": "execute_result"
    }
   ],
   "source": [
    "def sum(ns: List[Int]) = {\n",
    "    foldRight(ns, 0)(_+_)\n",
    "}\n",
    "\n",
    "sum(List(1,2,3,4,5))"
   ]
  },
  {
   "cell_type": "code",
   "execution_count": 15,
   "metadata": {},
   "outputs": [
    {
     "data": {
      "text/plain": [
       "Cons(1,Cons(2,Cons(3,Nil)))"
      ]
     },
     "execution_count": 15,
     "metadata": {},
     "output_type": "execute_result"
    }
   ],
   "source": [
    "foldRight(List(1,2,3), Nil:List[Int])(Cons(_,_))"
   ]
  },
  {
   "cell_type": "code",
   "execution_count": 25,
   "metadata": {},
   "outputs": [
    {
     "data": {
      "text/plain": [
       "7"
      ]
     },
     "execution_count": 25,
     "metadata": {},
     "output_type": "execute_result"
    }
   ],
   "source": [
    "def length[A](as: List[A]): Int = {\n",
    "    foldRight(as, 0)((x, z) => 1+z)\n",
    "}\n",
    "length(List(1,2,3,4,5,6,23))"
   ]
  },
  {
   "cell_type": "code",
   "execution_count": 19,
   "metadata": {},
   "outputs": [],
   "source": [
    "def foldLeft[A,B](as: List[A], z: B)(f: (B, A) => B): B = as match {\n",
    "    case Nil => z\n",
    "    case Cons(head, tail) => foldLeft(tail, f(z, head))(f)\n",
    "}"
   ]
  },
  {
   "cell_type": "markdown",
   "metadata": {},
   "source": [
    "TODO manual"
   ]
  },
  {
   "cell_type": "code",
   "execution_count": 22,
   "metadata": {},
   "outputs": [
    {
     "data": {
      "text/plain": [
       "120"
      ]
     },
     "execution_count": 22,
     "metadata": {},
     "output_type": "execute_result"
    }
   ],
   "source": [
    "def product(ns: List[Int]) = {\n",
    "    foldLeft(ns, 1)(_*_)\n",
    "}\n",
    "\n",
    "product(List(1,2,3,4,5))"
   ]
  },
  {
   "cell_type": "code",
   "execution_count": 23,
   "metadata": {},
   "outputs": [
    {
     "data": {
      "text/plain": [
       "15"
      ]
     },
     "execution_count": 23,
     "metadata": {},
     "output_type": "execute_result"
    }
   ],
   "source": [
    "def sum(ns: List[Int]) = {\n",
    "    foldLeft(ns, 0)(_+_)\n",
    "}\n",
    "\n",
    "sum(List(1,2,3,4,5))"
   ]
  },
  {
   "cell_type": "code",
   "execution_count": 26,
   "metadata": {},
   "outputs": [
    {
     "data": {
      "text/plain": [
       "7"
      ]
     },
     "execution_count": 26,
     "metadata": {},
     "output_type": "execute_result"
    }
   ],
   "source": [
    "def length[A](as: List[A]): Int = {\n",
    "    foldLeft(as, 0)((z, x) => 1+z)\n",
    "}\n",
    "length(List(1,2,3,4,5,6,23))"
   ]
  },
  {
   "cell_type": "code",
   "execution_count": 48,
   "metadata": {},
   "outputs": [
    {
     "data": {
      "text/plain": [
       "Name: Compile Error\n",
       "Message: <console>:32: error: not found: type A\n",
       "       def reverse(as: List[A]) =  {\n",
       "                            ^\n",
       "<console>:33: error: type mismatch;\n",
       " found   : Cons[Nil.type]\n",
       " required: Nil.type\n",
       "           foldLeft(as, Nil)(Cons(_,_))\n",
       "                                 ^\n",
       "StackTrace: "
      ]
     },
     "execution_count": 48,
     "metadata": {},
     "output_type": "execute_result"
    }
   ],
   "source": [
    "def reverse(as: List[A]) =  {\n",
    "    foldLeft(as, Nil)(Cons(_,_))\n",
    "}\n",
    "\n",
    "reverse(List(1,2,3,4,5))"
   ]
  },
  {
   "cell_type": "code",
   "execution_count": 31,
   "metadata": {
    "collapsed": true
   },
   "outputs": [],
   "source": [
    "def foldRight[A,B](as: List[A], z: B)(f: (A, B)=>B) = {\n",
    "    foldLeft(as, z)((b,a) => f(a,b))\n",
    "}"
   ]
  },
  {
   "cell_type": "code",
   "execution_count": 32,
   "metadata": {},
   "outputs": [
    {
     "data": {
      "text/plain": [
       "15"
      ]
     },
     "execution_count": 32,
     "metadata": {},
     "output_type": "execute_result"
    }
   ],
   "source": [
    "def sum(ns: List[Int]) = {\n",
    "    foldRight(ns, 0)(_+_)\n",
    "}\n",
    "\n",
    "sum(List(1,2,3,4,5))"
   ]
  },
  {
   "cell_type": "code",
   "execution_count": 47,
   "metadata": {},
   "outputs": [
    {
     "data": {
      "text/plain": [
       "Cons(1,Cons(2,Cons(3,Cons(4,Cons(5,Cons(6,Nil))))))"
      ]
     },
     "execution_count": 47,
     "metadata": {},
     "output_type": "execute_result"
    }
   ],
   "source": [
    "def append[A](as: List[A], value: A) = {\n",
    "    foldRight(as, Cons(value, Nil))(Cons(_,_))\n",
    "}\n",
    "\n",
    "append(List(1,2,3,4,5),6)"
   ]
  },
  {
   "cell_type": "markdown",
   "metadata": {},
   "source": [
    "Hard: Write a function that concatenates a list of lists into a single list. Its runtime\n",
    "should be linear in the total length of all lists. Try to use functions we have already\n",
    "defined."
   ]
  },
  {
   "cell_type": "code",
   "execution_count": 39,
   "metadata": {},
   "outputs": [
    {
     "data": {
      "text/plain": [
       "6"
      ]
     },
     "execution_count": 39,
     "metadata": {},
     "output_type": "execute_result"
    }
   ],
   "source": [
    "// Write a function that transforms a list of integers by adding 1 to each element.\n",
    "// (Reminder: this should be a pure function that returns a new List!)\n",
    "\n",
    "def addOne(as: List[Int]) = {\n",
    "    foldLeft(as, 1)((z,x) => x+1)\n",
    "}\n",
    "\n",
    "addOne(List(1,2,3,4,5))\n",
    "        "
   ]
  },
  {
   "cell_type": "code",
   "execution_count": null,
   "metadata": {
    "collapsed": true
   },
   "outputs": [],
   "source": [
    "// Write a function that turns each value in a List[Double] into a String. You can use\n",
    "// the expression d.toString to convert some d: Double to a String.\n"
   ]
  },
  {
   "cell_type": "code",
   "execution_count": null,
   "metadata": {
    "collapsed": true
   },
   "outputs": [],
   "source": [
    "// Write a function map that generalizes modifying each element in a list while maintaining the structure of the list. Here is its signature:12\n",
    "// def map[A,B](as: List[A])(f: A => B): List[B]\n"
   ]
  },
  {
   "cell_type": "code",
   "execution_count": null,
   "metadata": {
    "collapsed": true
   },
   "outputs": [],
   "source": [
    "// def filter[A](as: List[A])(f: A => Boolean): List[A]\n"
   ]
  },
  {
   "cell_type": "code",
   "execution_count": null,
   "metadata": {
    "collapsed": true
   },
   "outputs": [],
   "source": []
  },
  {
   "cell_type": "code",
   "execution_count": null,
   "metadata": {
    "collapsed": true
   },
   "outputs": [],
   "source": []
  }
 ],
 "metadata": {
  "kernelspec": {
   "display_name": "ToreeSpark - Scala",
   "language": "scala",
   "name": "toreespark_scala"
  },
  "language_info": {
   "codemirror_mode": "text/x-scala",
   "file_extension": ".scala",
   "mimetype": "text/x-scala",
   "name": "scala",
   "pygments_lexer": "scala",
   "version": "2.11.8"
  }
 },
 "nbformat": 4,
 "nbformat_minor": 2
}
