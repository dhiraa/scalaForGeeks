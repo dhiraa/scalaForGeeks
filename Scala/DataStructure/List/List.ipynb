{
 "cells": [
  {
   "cell_type": "code",
   "execution_count": 4,
   "metadata": {
    "collapsed": false
   },
   "outputs": [],
   "source": []
  },
  {
   "cell_type": "code",
   "execution_count": 11,
   "metadata": {
    "collapsed": false
   },
   "outputs": [],
   "source": []
  },
  {
   "cell_type": "code",
   "execution_count": null,
   "metadata": {
    "collapsed": true
   },
   "outputs": [],
   "source": []
  },
  {
   "cell_type": "code",
   "execution_count": null,
   "metadata": {
    "collapsed": true
   },
   "outputs": [],
   "source": []
  },
  {
   "cell_type": "code",
   "execution_count": null,
   "metadata": {
    "collapsed": true
   },
   "outputs": [],
   "source": []
  },
  {
   "cell_type": "code",
   "execution_count": null,
   "metadata": {
    "collapsed": true
   },
   "outputs": [],
   "source": []
  },
  {
   "cell_type": "code",
   "execution_count": null,
   "metadata": {
    "collapsed": true
   },
   "outputs": [],
   "source": []
  },
  {
   "cell_type": "code",
   "execution_count": null,
   "metadata": {
    "collapsed": true
   },
   "outputs": [],
   "source": []
  },
  {
   "cell_type": "code",
   "execution_count": 3,
   "metadata": {
    "collapsed": true,
    "deletable": true,
    "editable": true
   },
   "outputs": [],
   "source": [
    "val l = List(1,2,3,4,5,6,7,8)"
   ]
  },
  {
   "cell_type": "code",
   "execution_count": 4,
   "metadata": {
    "collapsed": false,
    "deletable": true,
    "editable": true
   },
   "outputs": [
    {
     "data": {
      "text/plain": [
       "8"
      ]
     },
     "execution_count": 4,
     "metadata": {},
     "output_type": "execute_result"
    }
   ],
   "source": [
    "//1. Find the last element of a list.\n",
    "\n",
    "l.last\n",
    "\n",
    "def lastItem[A](l : List[A]): A = l match {\n",
    "  //last item\n",
    "  case h :: Nil => h\n",
    "  //element :: List items\n",
    "  case _ :: tail => lastItem(tail)\n",
    "  case _         => throw new NoSuchFieldError\n",
    "}\n",
    "\n",
    "val last = lastItem(l)\n",
    "last"
   ]
  },
  {
   "cell_type": "code",
   "execution_count": 2,
   "metadata": {
    "collapsed": false,
    "deletable": true,
    "editable": true
   },
   "outputs": [
    {
     "data": {
      "text/plain": [
       "7"
      ]
     },
     "execution_count": 2,
     "metadata": {},
     "output_type": "execute_result"
    }
   ],
   "source": [
    "//2.Find the last but one element of a list\n",
    "l.init\n",
    "l.init.tail\n",
    "l.init.last\n",
    "\n",
    "def lastBfrItem[A](l: List[A]) : A = l match {\n",
    "  case h :: _ :: Nil => h\n",
    "  case _ :: tail => lastBfrItem(tail)\n",
    "  case _        => throw new NoSuchElementException\n",
    "}\n",
    "\n",
    "val lastBfrElem = lastBfrItem(l)\n",
    "lastBfrElem"
   ]
  },
  {
   "cell_type": "code",
   "execution_count": 6,
   "metadata": {
    "collapsed": false,
    "deletable": true,
    "editable": true
   },
   "outputs": [
    {
     "data": {
      "text/plain": [
       "7"
      ]
     },
     "execution_count": 6,
     "metadata": {},
     "output_type": "execute_result"
    }
   ],
   "source": [
    "def lastNthRecursive[A](n: Int, l: List[A]) : A = {\n",
    "  def lastNthR[A](count: Int, resultList: List[A], currList: List[A]): A = currList match {\n",
    "    case Nil if count > 0 => throw new NoSuchElementException\n",
    "    case Nil => resultList.head\n",
    "    case _ :: tail => lastNthR(count - 1,\n",
    "      if (count > 0)\n",
    "        resultList\n",
    "      else\n",
    "        resultList.tail,\n",
    "      tail)\n",
    "  }\n",
    "\n",
    "  if (n <=0)\n",
    "    throw new IllegalArgumentException\n",
    "  else\n",
    "    lastNthR(n ,l, l)\n",
    "}\n",
    "\n",
    "\n",
    "val d = lastNthRecursive(2, l)\n",
    "d"
   ]
  },
  {
   "cell_type": "code",
   "execution_count": 12,
   "metadata": {
    "collapsed": false,
    "deletable": true,
    "editable": true
   },
   "outputs": [
    {
     "name": "stdout",
     "output_type": "stream",
     "text": [
      "3\n"
     ]
    },
    {
     "data": {
      "text/plain": [
       "3"
      ]
     },
     "execution_count": 12,
     "metadata": {},
     "output_type": "execute_result"
    }
   ],
   "source": [
    "//3. Find the Kth element of a list.\n",
    "println(l(2))\n",
    "\n",
    "// Not that much harder without.\n",
    "def nthRecursive[A](n: Int, ls: List[A]): A = (n, ls) match {\n",
    "  case (0, h :: _   ) => h\n",
    "  case (n, _ :: tail) => nthRecursive(n - 1, tail)\n",
    "  case (_, Nil      ) => throw new NoSuchElementException\n",
    "}\n",
    "\n",
    "nthRecursive(2, l)"
   ]
  },
  {
   "cell_type": "code",
   "execution_count": 10,
   "metadata": {
    "collapsed": false,
    "deletable": true,
    "editable": true
   },
   "outputs": [
    {
     "name": "stdout",
     "output_type": "stream",
     "text": [
      "8\n"
     ]
    },
    {
     "data": {
      "text/plain": [
       "8"
      ]
     },
     "execution_count": 10,
     "metadata": {},
     "output_type": "execute_result"
    }
   ],
   "source": [
    "//4.Find the number of elements of a list.\n",
    "println(l.length)\n",
    "\n",
    "def findLength[A](list: List[A]): Int = {\n",
    "  def length[A](result: Int, l: List[A]) : Int = l match {\n",
    "    case Nil => result\n",
    "    case _ :: tail => length(result + 1, tail)\n",
    "  }\n",
    "\n",
    "  length(0, list)\n",
    "}\n",
    "\n",
    "findLength(l)"
   ]
  },
  {
   "cell_type": "code",
   "execution_count": 14,
   "metadata": {
    "collapsed": false,
    "deletable": true,
    "editable": true
   },
   "outputs": [
    {
     "name": "stdout",
     "output_type": "stream",
     "text": [
      "List(8, 7, 6, 5, 4, 3, 2, 1)\n"
     ]
    },
    {
     "data": {
      "text/plain": [
       "List(8, 7, 6, 5, 4, 3, 2, 1)"
      ]
     },
     "execution_count": 14,
     "metadata": {},
     "output_type": "execute_result"
    }
   ],
   "source": [
    "//5.Reverse a list.\n",
    "println(l.reverse)\n",
    "\n",
    "l.head\n",
    "\n",
    "//O(n^2)\n",
    "def reverseList[A](l: List[A]): List[A] = l match {\n",
    "  case Nil => Nil\n",
    "  case h :: tail => reverseList(tail) ::: List(h)\n",
    "}\n",
    "\n",
    "reverseList(l)"
   ]
  },
  {
   "cell_type": "code",
   "execution_count": null,
   "metadata": {
    "collapsed": true,
    "deletable": true,
    "editable": true
   },
   "outputs": [],
   "source": [
    "//Tail recursive\n",
    "def reverseListTR[A](list: List[A]) : List[A] = {\n",
    "\n",
    "  def reverse1[A](result: List[A], currList: List[A]): List[A] = currList match {\n",
    "    case Nil => result\n",
    "    case h :: tail => reverse1(h::result, tail)\n",
    "  }\n",
    "\n",
    "  reverse1(Nil, list)\n",
    "}\n",
    "\n",
    "val j = reverseListTR(l)"
   ]
  },
  {
   "cell_type": "code",
   "execution_count": null,
   "metadata": {
    "collapsed": true,
    "deletable": true,
    "editable": true
   },
   "outputs": [],
   "source": [
    "//6. Find out whether a list is a palindrome.\n",
    "val palindromeList = List(1,2,3,2,1)\n",
    "\n",
    "palindromeList.reverse\n",
    "\n",
    "def isPalindrome[A](list: List[A]): Boolean = {\n",
    "  list.equals(list.reverse)\n",
    "  //or list === list.reverse\n",
    "}\n",
    "\n",
    "val p = isPalindrome(palindromeList)"
   ]
  },
  {
   "cell_type": "code",
   "execution_count": null,
   "metadata": {
    "collapsed": true,
    "deletable": true,
    "editable": true
   },
   "outputs": [],
   "source": [
    "//7.Flatten List\n",
    "val strings = List(List(\"abc\", \"def\"), \"ghi\", List(1,2,3))\n",
    "\n",
    "val packetList= List(List(1, 1), 2, List(3, List(5, 8)))\n",
    "\n",
    "def flatten[A](list: List[Any]): List[Any] =  list flatMap {\n",
    "  case item : List[_] => flatten(item)\n",
    "  case e => List(e)\n",
    "}\n",
    "\n",
    "\n",
    "val y = flatten(strings)"
   ]
  },
  {
   "cell_type": "code",
   "execution_count": null,
   "metadata": {
    "collapsed": true,
    "deletable": true,
    "editable": true
   },
   "outputs": [],
   "source": [
    "//8.Eliminate consecutive duplicates of list elements.\n",
    "val listWithMultipleOccurence = List('a, 'a, 'a, 'a, 'b, 'c, 'c, 'a, 'a, 'd, 'e, 'e, 'e, 'e)\n",
    "listWithMultipleOccurence.distinct\n",
    "\n",
    "\n",
    "listWithMultipleOccurence.dropWhile(_ == 'a')"
   ]
  },
  {
   "cell_type": "code",
   "execution_count": null,
   "metadata": {
    "collapsed": true,
    "deletable": true,
    "editable": true
   },
   "outputs": [],
   "source": []
  },
  {
   "cell_type": "code",
   "execution_count": null,
   "metadata": {
    "collapsed": true
   },
   "outputs": [],
   "source": []
  },
  {
   "cell_type": "code",
   "execution_count": null,
   "metadata": {
    "collapsed": true
   },
   "outputs": [],
   "source": []
  }
 ],
 "metadata": {
  "kernelspec": {
   "display_name": "ToreeSpark - Scala",
   "language": "scala",
   "name": "toreespark_scala"
  },
  "language_info": {
   "codemirror_mode": "text/x-scala",
   "file_extension": ".scala",
   "mimetype": "text/x-scala",
   "name": "scala",
   "pygments_lexer": "scala",
   "version": "2.11.8"
  }
 },
 "nbformat": 4,
 "nbformat_minor": 2
}
