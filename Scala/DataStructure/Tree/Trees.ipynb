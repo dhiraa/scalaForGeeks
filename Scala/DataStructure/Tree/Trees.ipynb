{
 "cells": [
  {
   "cell_type": "markdown",
   "metadata": {},
   "source": [
    "# Tree Time Complexity and Space Analysis\n",
    "\n",
    "\n",
    "A Tree is typically traversed in two ways:\n",
    "\n",
    "- Breadth First Traversal (Or Level Order Traversal)\n",
    "- Depth First Traversals\n",
    "    - Inorder Traversal (Left-Root-Right)\n",
    "    - Preorder Traversal (Root-Left-Right)\n",
    "    - Postorder Traversal (Left-Right-Root)\n",
    "     \n",
    "All four traversals takes **O(n)** time  \n",
    "BFT takes a spave of **O(w)** where **w** is the maximum **width** of the Tree    \n",
    "DFT takes a spave of **O(h)** where h is the maximum **height** of the Tree    "
   ]
  },
  {
   "cell_type": "markdown",
   "metadata": {},
   "source": [
    "Number of nodes with height h : $2^h - 1$   \n",
    "Number of nodes/leafs at given height h : $2^{(h - 1)}$   \n",
    "Height of the tree given number of nodes in a **balanced tree** : $log_2(n+1)$ "
   ]
  },
  {
   "cell_type": "code",
   "execution_count": 1,
   "metadata": {},
   "outputs": [],
   "source": [
    "sealed trait Tree[+A]\n",
    "case class Leaf[A](value: A) extends Tree[A]\n",
    "case class Node[A](value: A, left: Option[Tree[A]]=None, right: Option[Tree[A]]=None) extends Tree[A]"
   ]
  },
  {
   "cell_type": "code",
   "execution_count": 4,
   "metadata": {},
   "outputs": [],
   "source": [
    "val manualCreation = Node(0, \n",
    "                        Node(1, \n",
    "                                 Node(3, \n",
    "                                      Leaf(7), \n",
    "                                      Leaf(8)), \n",
    "                                 Node(4, \n",
    "                                      Leaf(9), \n",
    "                                      Leaf(10))), \n",
    "                        Node(2, \n",
    "                                 Node(5, \n",
    "                                      Leaf(11), \n",
    "                                      Leaf(12)), \n",
    "                                 Node(6, \n",
    "                                      Leaf(13), \n",
    "                                      Leaf(14))))"
   ]
  },
  {
   "cell_type": "markdown",
   "metadata": {},
   "source": [
    "```\n",
    "                              Level(l)   Height(h)\n",
    "              0                 0           1\n",
    "         ------------     \n",
    "        1            2          1           2\n",
    "     -------      -------\n",
    "     3     4      5     6       2           3\n",
    "    ----  ----   ----- -----\n",
    "    7  8  9 10   11 12 13 14    3           4\n",
    "\n",
    "```"
   ]
  },
  {
   "cell_type": "code",
   "execution_count": 2,
   "metadata": {},
   "outputs": [],
   "source": [
    "implicit def nodeToOption[A](node: Tree[A]) = node match {\n",
    "    case leaf: Leaf[A] => Some(leaf)\n",
    "    case node: Node[A] => Some(node)\n",
    "}\n",
    "implicit def optionToNode[A](option: Option[Tree[A]]) = option match {\n",
    "    case leaf: Option[Leaf[A]] => leaf.get\n",
    "    case node: Option[Node[A]] => node.get\n",
    "}"
   ]
  },
  {
   "cell_type": "code",
   "execution_count": 3,
   "metadata": {},
   "outputs": [],
   "source": [
    "val manualCreation = Node(1,\n",
    "                        Node(2, \n",
    "                             Leaf(4), Leaf(5)), \n",
    "                        Leaf(3))"
   ]
  },
  {
   "cell_type": "markdown",
   "metadata": {},
   "source": [
    "```\n",
    "              1\n",
    "         ------------     \n",
    "        2            3\n",
    "      ------      -------\n",
    "      4    5      \n",
    "\n",
    "```"
   ]
  },
  {
   "cell_type": "markdown",
   "metadata": {},
   "source": [
    "How the 'Root' nodes is traversed says about the traversal order \n",
    "- Inorder - Root is inbetween Left and Right nodes\n",
    "- Preorder - Root is traversed before Left and Left Node\n",
    "- Postorder - Root is traversed after Left and Left Node"
   ]
  },
  {
   "cell_type": "code",
   "execution_count": 5,
   "metadata": {},
   "outputs": [],
   "source": [
    "    \n",
    "//Left,Root,Right\n",
    "def inOrder[A](tree: Tree[A]): Unit = tree match {\n",
    "    case node: Node[A] => {\n",
    "        inOrder(node.left)\n",
    "        print(node.value + \" \")\n",
    "        inOrder(node.right)\n",
    "    }\n",
    "    case leaf: Leaf[A] => print(leaf.value + \" \")\n",
    "   \n",
    "}"
   ]
  },
  {
   "cell_type": "code",
   "execution_count": 6,
   "metadata": {},
   "outputs": [
    {
     "name": "stdout",
     "output_type": "stream",
     "text": [
      "4 2 5 1 3 "
     ]
    }
   ],
   "source": [
    "inOrder(manualCreation)"
   ]
  },
  {
   "cell_type": "code",
   "execution_count": 7,
   "metadata": {},
   "outputs": [],
   "source": [
    "//Root, Left,Right\n",
    "def preOrder[A](tree: Tree[A]): Unit = tree match {\n",
    "    case node: Node[A] => {\n",
    "        print(node.value + \" \")\n",
    "        preOrder(node.left)\n",
    "        preOrder(node.right)\n",
    "    }\n",
    "    case leaf: Leaf[A] => print(leaf.value + \" \")\n",
    "   \n",
    "}"
   ]
  },
  {
   "cell_type": "code",
   "execution_count": 8,
   "metadata": {},
   "outputs": [
    {
     "name": "stdout",
     "output_type": "stream",
     "text": [
      "1 2 4 5 3 "
     ]
    }
   ],
   "source": [
    "preOrder(manualCreation)"
   ]
  },
  {
   "cell_type": "code",
   "execution_count": 9,
   "metadata": {},
   "outputs": [],
   "source": [
    "//Left,Right, Root\n",
    "def postOrder[A](tree: Tree[A]): Unit = tree match {\n",
    "    case node: Node[A] => {\n",
    "        postOrder(node.left)\n",
    "        postOrder(node.right)\n",
    "        print(node.value + \" \")\n",
    "    }\n",
    "    case leaf: Leaf[A] => print(leaf.value + \" \")\n",
    "   \n",
    "}"
   ]
  },
  {
   "cell_type": "code",
   "execution_count": 10,
   "metadata": {},
   "outputs": [
    {
     "name": "stdout",
     "output_type": "stream",
     "text": [
      "4 5 2 3 1 "
     ]
    }
   ],
   "source": [
    "postOrder(manualCreation)"
   ]
  },
  {
   "cell_type": "code",
   "execution_count": null,
   "metadata": {
    "collapsed": true
   },
   "outputs": [],
   "source": []
  },
  {
   "cell_type": "code",
   "execution_count": 12,
   "metadata": {},
   "outputs": [
    {
     "name": "stdout",
     "output_type": "stream",
     "text": [
      "Queue(0, 1, 2)Queue(1, 2)"
     ]
    }
   ],
   "source": [
    "val queue = scala.collection.mutable.Queue[Int]()\n",
    "\n",
    "queue.enqueue(0)\n",
    "queue.enqueue(1)\n",
    "queue.enqueue(2)\n",
    "\n",
    "print(queue)\n",
    "queue.dequeue()\n",
    "print(queue)"
   ]
  },
  {
   "cell_type": "code",
   "execution_count": 5,
   "metadata": {},
   "outputs": [],
   "source": [
    "def extractValue[A](root: Tree[A]) = root match {\n",
    "    case node: Node[A] => node.value \n",
    "    case leaf: Leaf[A] => leaf.value\n",
    "}"
   ]
  },
  {
   "cell_type": "code",
   "execution_count": 8,
   "metadata": {},
   "outputs": [],
   "source": [
    "def breadFirstTraversal[A](root: Tree[A]): Unit = {\n",
    "    val queue = scala.collection.mutable.Queue[Tree[A]]()\n",
    "    queue.enqueue(root)\n",
    "    \n",
    "    while(queue.size>0) {\n",
    "        val currentRoot = queue.dequeue()\n",
    "        print(extractValue(currentRoot))\n",
    "        print(\" \")\n",
    "        \n",
    "        currentRoot match {\n",
    "            case node: Node[A] =>\n",
    "                        if(node.left.getOrElse(None) != None) queue.enqueue(node.left)\n",
    "                        if(node.right.getOrElse(None) != None) queue.enqueue(node.right)\n",
    "            case leaf: Leaf[A] => \n",
    "                         None\n",
    "        }\n",
    "    }\n",
    "}"
   ]
  },
  {
   "cell_type": "code",
   "execution_count": 9,
   "metadata": {},
   "outputs": [
    {
     "name": "stdout",
     "output_type": "stream",
     "text": [
      "0 1 2 3 4 5 6 7 8 9 10 11 12 13 14 "
     ]
    }
   ],
   "source": [
    "breadFirstTraversal(manualCreation)"
   ]
  },
  {
   "cell_type": "code",
   "execution_count": null,
   "metadata": {
    "collapsed": true
   },
   "outputs": [],
   "source": []
  },
  {
   "cell_type": "code",
   "execution_count": null,
   "metadata": {
    "collapsed": true
   },
   "outputs": [],
   "source": []
  }
 ],
 "metadata": {
  "kernelspec": {
   "display_name": "ToreeSpark - Scala",
   "language": "scala",
   "name": "toreespark_scala"
  },
  "language_info": {
   "codemirror_mode": "text/x-scala",
   "file_extension": ".scala",
   "mimetype": "text/x-scala",
   "name": "scala",
   "pygments_lexer": "scala",
   "version": "2.11.8"
  }
 },
 "nbformat": 4,
 "nbformat_minor": 2
}
