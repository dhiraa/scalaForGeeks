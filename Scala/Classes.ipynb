{
 "cells": [
  {
   "cell_type": "markdown",
   "metadata": {
    "deletable": true,
    "editable": true
   },
   "source": [
    "###  Class Parameters"
   ]
  },
  {
   "cell_type": "code",
   "execution_count": 31,
   "metadata": {
    "collapsed": false,
    "deletable": true,
    "editable": true
   },
   "outputs": [
    {
     "data": {
      "text/plain": [
       "someData"
      ]
     },
     "execution_count": 31,
     "metadata": {},
     "output_type": "execute_result"
    }
   ],
   "source": [
    "//Lets explore how parameters are handled in Scala class\n",
    "\n",
    "//constructor parameters won't have setter/getters by default!\n",
    "class Person(name: String, age: Int) {\n",
    "\n",
    "  val someData : String = \"someData\"\n",
    "}\n",
    "val p = new Person(\"Aja\", 27)\n",
    "//p.age //error\n",
    "//p.name //error\n",
    "p.someData"
   ]
  },
  {
   "cell_type": "code",
   "execution_count": 39,
   "metadata": {
    "collapsed": false,
    "deletable": true,
    "editable": true
   },
   "outputs": [
    {
     "name": "stdout",
     "output_type": "stream",
     "text": [
      "(Aja,27)"
     ]
    }
   ],
   "source": [
    "//In case classes constructor parameters are by default val i.e you will get getters\n",
    "case class Person1(name: String, age: Int) {\n",
    "   private val someData: String =\"someData\"\n",
    "}\n",
    "\n",
    "val p1 = Person1(\"Aja\", 27)\n",
    "//p1.age = 28 //Reassiment to val error\n",
    "//p1.someData //not accesible\n",
    "print(p1.name, p1.age)"
   ]
  },
  {
   "cell_type": "code",
   "execution_count": 42,
   "metadata": {
    "collapsed": false,
    "deletable": true,
    "editable": true
   },
   "outputs": [
    {
     "name": "stdout",
     "output_type": "stream",
     "text": [
      "(Aja,28,Person2(aja,25),(),(),Person2(aja,25))"
     ]
    }
   ],
   "source": [
    "//For getter/setter explicitly mark the variables as \"var\"\n",
    "class Person2(var name: String, var age: Int) {\n",
    "  protected val someData: String = \"someData\"\n",
    "\n",
    "  def someMethod() = { println(name)}\n",
    "\n",
    "  override def toString(): String   = this.getClass.getSimpleName + \"(\" + name + \",\" + age + \")\"\n",
    "}\n",
    "val p2 = new Person2(\"Aja\", 28)\n",
    "//p2.someData //not accessible\n",
    "print(p2.name, p2.age, p2, p2.name = \"aja\", p2.age = 25,p2)\n"
   ]
  },
  {
   "cell_type": "code",
   "execution_count": 43,
   "metadata": {
    "collapsed": false,
    "deletable": true,
    "editable": true
   },
   "outputs": [
    {
     "name": "stdout",
     "output_type": "stream",
     "text": [
      "(Aja,Person3(Aja,27))"
     ]
    }
   ],
   "source": [
    "class Person3(val name: String, val age: Int) {\n",
    "  protected val someData: String = \"\"\n",
    "\n",
    "  def someMethod() = { println(name)}\n",
    "\n",
    "  override def toString(): String   = this.getClass.getSimpleName + \"(\" + name + \",\" + age + \")\"\n",
    "}\n",
    "val p3 = new Person3(\"Aja\", 27)\n",
    "//p2.someData //not accessible\n",
    "// p3.age //not accessible\n",
    "//p3.name = \"aja\"  //no setter created\n",
    "//p3.age = 25 //no setter created\n",
    "print(p3.name, p3)\n"
   ]
  },
  {
   "cell_type": "code",
   "execution_count": 49,
   "metadata": {
    "collapsed": false,
    "deletable": true,
    "editable": true
   },
   "outputs": [
    {
     "data": {
      "text/plain": [
       "Name: Syntax Error.\n",
       "Message: \n",
       "StackTrace: "
      ]
     },
     "execution_count": 49,
     "metadata": {},
     "output_type": "execute_result"
    }
   ],
   "source": [
    "// //Here the constructor is made private\n",
    "// class Model private (x: Int, y: Int) {\n",
    "//   def this() = this(0,0) //overloaded constructor\n",
    "//   def this(y: Int) = this(0,y) //overloaded constructor\n",
    "//   def run = x + y\n",
    "// }\n",
    "\n",
    "// object Model {\n",
    "//   def train() = new Model().run\n",
    "//   def train(y: Int) = new Model(y).run\n",
    "// //   def train(x: Int, y: Int) = new Model(x,y).run\n",
    "// }\n",
    "\n",
    "// //Cannnot override mutable variables\n",
    "\n",
    "// var result = new Model().run\n",
    "// var addResult = Model.train()\n",
    "// addResult = Model.train(1)\n",
    "// addResult = Model.train(1,1)\n",
    "\n",
    "\n"
   ]
  },
  {
   "cell_type": "code",
   "execution_count": null,
   "metadata": {
    "collapsed": true,
    "deletable": true,
    "editable": true
   },
   "outputs": [],
   "source": []
  },
  {
   "cell_type": "markdown",
   "metadata": {
    "collapsed": true,
    "deletable": true,
    "editable": true
   },
   "source": [
    "## Uniform Access Principle"
   ]
  },
  {
   "cell_type": "code",
   "execution_count": 2,
   "metadata": {
    "collapsed": true
   },
   "outputs": [],
   "source": [
    "class Counter {\n",
    "  var count = 5\n",
    "}\n",
    "\n",
    "//Clients read and write\n",
    "//field values as if they are publicly accessible,\n",
    "//even though in some cases they are actually\n",
    "//calling methods.\n",
    "class Counter1 {\n",
    "  private var cnt = 5\n",
    "  //Method and field lives in the same\n",
    "  //name space\n",
    "  def count = cnt\n",
    "  def count_=(newCount: Int) = cnt = newCount\n",
    "}"
   ]
  },
  {
   "cell_type": "code",
   "execution_count": 4,
   "metadata": {
    "collapsed": false
   },
   "outputs": [
    {
     "data": {
      "text/plain": [
       "5"
      ]
     },
     "execution_count": 4,
     "metadata": {},
     "output_type": "execute_result"
    }
   ],
   "source": [
    "val c = new Counter\n",
    "c.count"
   ]
  },
  {
   "cell_type": "code",
   "execution_count": 5,
   "metadata": {
    "collapsed": false
   },
   "outputs": [
    {
     "data": {
      "text/plain": [
       "6"
      ]
     },
     "execution_count": 5,
     "metadata": {},
     "output_type": "execute_result"
    }
   ],
   "source": [
    "c.count = 6\n",
    "c.count"
   ]
  },
  {
   "cell_type": "code",
   "execution_count": 6,
   "metadata": {
    "collapsed": false
   },
   "outputs": [
    {
     "data": {
      "text/plain": [
       "5"
      ]
     },
     "execution_count": 6,
     "metadata": {},
     "output_type": "execute_result"
    }
   ],
   "source": [
    "val c1 = new Counter1\n",
    "c1.count"
   ]
  },
  {
   "cell_type": "code",
   "execution_count": 7,
   "metadata": {
    "collapsed": false
   },
   "outputs": [
    {
     "data": {
      "text/plain": [
       "6"
      ]
     },
     "execution_count": 7,
     "metadata": {},
     "output_type": "execute_result"
    }
   ],
   "source": [
    "c1.count = 6\n",
    "c1.count"
   ]
  },
  {
   "cell_type": "code",
   "execution_count": 8,
   "metadata": {
    "collapsed": false
   },
   "outputs": [
    {
     "data": {
      "text/plain": [
       "7"
      ]
     },
     "execution_count": 8,
     "metadata": {},
     "output_type": "execute_result"
    }
   ],
   "source": [
    "c1.count_=(7)\n",
    "//val/var vs def\n",
    "//def is lazy evaluation\n",
    "c1.count"
   ]
  },
  {
   "cell_type": "markdown",
   "metadata": {
    "deletable": true,
    "editable": true
   },
   "source": [
    "##  Case Class\n",
    "Case classes means that they differ from standard classes in several respects:\n",
    "\n",
    "- no need of \"new\" keyword, jus write val v = Var(\"Hello, world\")\n",
    "- getter functions are automatically defined for the constructor parameters, i.e v.n\n",
    "- default definitions for methods equals and hashCode are provided, which work\n",
    "  on the structure of the instances and not on their identity\n",
    "- a default definition for method toString is provided, and prints the value in a\n",
    "  “source form” (e.g. the tree for expression x+1 prints as Sum(Var(x),Const(1))),\n",
    "- instances of these classes can be decomposed through pattern matching as\n",
    "  we will see below\n",
    "- **Inheritance in case classes -> Not possible**"
   ]
  },
  {
   "cell_type": "code",
   "execution_count": 10,
   "metadata": {
    "collapsed": true,
    "deletable": true,
    "editable": true
   },
   "outputs": [],
   "source": [
    "abstract class Tree\n",
    "case class Sum(l: Tree, r: Tree) extends Tree\n",
    "case class Var(n: String) extends Tree\n",
    "case class Const(v: Int) extends Tree"
   ]
  },
  {
   "cell_type": "code",
   "execution_count": 11,
   "metadata": {
    "collapsed": true,
    "deletable": true,
    "editable": true
   },
   "outputs": [],
   "source": [
    "type Environment = String => Int\n",
    "\n",
    "def eval(t: Tree, env: Environment): Int = t match\n",
    "{\n",
    "  case Sum(l, r) => eval(l, env) + eval(r, env)\n",
    "  case Var(n)    => env(n)\n",
    "  case Const(v)  => v\n",
    "}\n",
    "\n",
    "def derive(t: Tree, v: String): Tree = t match\n",
    "{\n",
    "  case Sum(l, r) => Sum(derive(l,v), derive(r,v))\n",
    "  case Var(n) if (v == n) => Const(1)\n",
    "  case _ => Const(0)\n",
    "}"
   ]
  },
  {
   "cell_type": "code",
   "execution_count": 12,
   "metadata": {
    "collapsed": false,
    "deletable": true,
    "editable": true
   },
   "outputs": [
    {
     "name": "stdout",
     "output_type": "stream",
     "text": [
      "Expression: Sum(Sum(Var(x),Var(x)),Sum(Const(7),Var(y)))\n",
      "Evaluation with x=5, y=7: 24\n",
      "Derivative relative to x:\n",
      " Sum(Sum(Const(1),Const(1)),Sum(Const(0),Const(0)))\n",
      "Derivative relative to y:\n",
      " Sum(Sum(Const(0),Const(0)),Sum(Const(0),Const(1)))\n"
     ]
    }
   ],
   "source": [
    "// (x + x) + (7 + y)\n",
    "val exp: Tree = Sum(Sum(Var(\"x\"),Var(\"x\")),Sum(Const(7), Var(\"y\")))\n",
    "val env: Environment = { case \"x\" => 5 case \"y\" => 7 }\n",
    "println(\"Expression: \" + exp)\n",
    "println(\"Evaluation with x=5, y=7: \" + eval(exp, env))\n",
    "println(\"Derivative relative to x:\\n \" + derive(exp, \"x\"))\n",
    "println(\"Derivative relative to y:\\n \" + derive(exp, \"y\"))"
   ]
  },
  {
   "cell_type": "markdown",
   "metadata": {
    "deletable": true,
    "editable": true
   },
   "source": [
    "**Another Example**"
   ]
  },
  {
   "cell_type": "code",
   "execution_count": 16,
   "metadata": {
    "collapsed": false,
    "deletable": true,
    "editable": true
   },
   "outputs": [],
   "source": [
    "case class Point(x: Double, y: Double)\n",
    "\n",
    "//No \"case\" keyword!\n",
    "abstract class Shape() {\n",
    "  def draw(): Unit\n",
    "}\n",
    "\n",
    "case class Circle(center: Point, radius: Double) extends Shape() {\n",
    "  def draw() = println(\"Circle.draw: \" + this)\n",
    "}\n",
    "\n",
    "case class Rectangle(lowerLeft: Point, height: Double, width: Double) extends Shape() {\n",
    "  def draw() = println(\"Rectangle.draw: \" + this)\n",
    "}\n",
    "\n",
    "case class Triangle(point1: Point, point2: Point, point3: Point) extends Shape() {\n",
    "  def draw() = println(\"Triangle.draw: \" + this)\n",
    "}\n"
   ]
  },
  {
   "cell_type": "code",
   "execution_count": 18,
   "metadata": {
    "collapsed": false,
    "deletable": true,
    "editable": true
   },
   "outputs": [
    {
     "name": "stdout",
     "output_type": "stream",
     "text": [
      "shape1: Circle(Point(0.0,0.0),1.0). hash = 313221310\n",
      "shape2: Circle(Point(0.0,0.0),1.0). 1 == 2 ? true\n",
      "shape2: Circle(Point(5.0,2.0),3.0). 1 == 2 ? false\n",
      "shape2: Rectangle(Point(0.0,0.0),2.0,5.0). 1 == 2 ? false\n",
      "shape2: Rectangle(Point(-2.0,-1.0),4.0,3.0). 1 == 2 ? false\n",
      "shape2: Triangle(Point(0.0,0.0),Point(1.0,0.0),Point(0.0,1.0)). 1 == 2 ? false\n"
     ]
    }
   ],
   "source": [
    "val shapesList = List(\n",
    "  Circle(Point(0.0, 0.0), 1.0),\n",
    "  Circle(Point(5.0, 2.0), 3.0),\n",
    "  Rectangle(Point(0.0, 0.0), 2, 5),\n",
    "  Rectangle(Point(-2.0, -1.0), 4, 3),\n",
    "  Triangle(Point(0.0, 0.0), Point(1.0, 0.0), Point(0.0, 1.0)))\n",
    "\n",
    "val shape1 = shapesList.head // grab the first one.\n",
    "\n",
    "println(\"shape1: \"+shape1+\". hash = \"+shape1.hashCode)\n",
    "\n",
    "for (shape2 <- shapesList) {\n",
    "  println(\"shape2: \"+shape2+\". 1 == 2 ? \"+(shape1 == shape2))\n",
    "}\n"
   ]
  },
  {
   "cell_type": "code",
   "execution_count": 19,
   "metadata": {
    "collapsed": false,
    "deletable": true,
    "editable": true
   },
   "outputs": [
    {
     "name": "stdout",
     "output_type": "stream",
     "text": [
      "Circle: center = Point(0.0,0.0), radius = 1.0\n",
      "Circle: center = Point(5.0,2.0), radius = 3.0\n",
      "Rectangle: lower-left = Point(0.0,0.0), height = 2.0, width = 5.0\n",
      "Rectangle: lower-left = Point(-2.0,-1.0), height = 4.0, width = 3.0\n",
      "Triangle: point1 = Point(0.0,0.0), point2 = Point(1.0,0.0), point3 = Point(0.0,1.0)\n"
     ]
    }
   ],
   "source": [
    "\n",
    "def matchOn(shape: Shape) = shape match {\n",
    "  case Circle(center, radius) =>\n",
    "    println(\"Circle: center = \"+center+\", radius = \"+radius)\n",
    "  case Rectangle(ll, h, w) =>\n",
    "    println(\"Rectangle: lower-left = \"+ll+\", height = \"+h+\", width = \"+w)\n",
    "  case Triangle(p1, p2, p3) =>\n",
    "    println(\"Triangle: point1 = \"+p1+\", point2 = \"+p2+\", point3 = \"+p3)\n",
    "  case _ =>\n",
    "    println(\"Unknown shape!\"+shape)\n",
    "}\n",
    "\n",
    "shapesList.foreach { shape => matchOn(shape) }"
   ]
  },
  {
   "cell_type": "code",
   "execution_count": null,
   "metadata": {
    "collapsed": true,
    "deletable": true,
    "editable": true
   },
   "outputs": [],
   "source": []
  },
  {
   "cell_type": "markdown",
   "metadata": {
    "deletable": true,
    "editable": true
   },
   "source": [
    "### ---> Sealed Class Hierarchies\n",
    "Basically to avoid default case in the match and cover all possible cases\n",
    "\n",
    "Avoid sealed case class hierarchies if the hierarchy changes frequently\n",
    "(for an appropriate definition of “frequently”)."
   ]
  },
  {
   "cell_type": "code",
   "execution_count": 2,
   "metadata": {
    "collapsed": true,
    "deletable": true,
    "editable": true
   },
   "outputs": [],
   "source": [
    "\n",
    "//sealed abstract class HttpMethod()\n",
    "sealed trait HttpMethod //triat can't take constructor parameters\n",
    "case class Connect(body: String) extends HttpMethod\n",
    "case class Delete (body: String) extends HttpMethod\n",
    "case class Get    (body: String) extends HttpMethod\n",
    "case class Head   (body: String) extends HttpMethod\n",
    "case class Options(body: String) extends HttpMethod\n",
    "case class Post   (body: String) extends HttpMethod\n",
    "case class Put    (body: String) extends HttpMethod\n",
    "case class Trace  (body: String) extends HttpMethod"
   ]
  },
  {
   "cell_type": "code",
   "execution_count": 7,
   "metadata": {
    "collapsed": true,
    "deletable": true,
    "editable": true
   },
   "outputs": [],
   "source": [
    "//No default case is necessary, since we cover all the possibilities.\n",
    "def handle (method: HttpMethod) = method match {\n",
    "  case Connect (body) => println(\"connect: \" + body)\n",
    "  case Delete  (body) => println(\"delete: \"  + body)\n",
    "  case Get     (body) => println(\"get: \"     + body)\n",
    "  case Head    (body) => println(\"head: \"    + body)\n",
    "  case Options (body) => println(\"options: \" + body)\n",
    "  case Post    (body) => println(\"post: \"    + body)\n",
    "  case Put     (body) => println(\"put: \"     + body)\n",
    "  case Trace   (body) => println(\"trace: \"   + body)\n",
    "  //If you comment above line. you will get ----->\n",
    "  //    Compiler Warning: match may not be exhaustive.\n",
    "  //It would fail on the following input: Trace(_)\n",
    "  //def handle (method: HttpMethod) = method match {\n",
    "}"
   ]
  },
  {
   "cell_type": "code",
   "execution_count": 8,
   "metadata": {
    "collapsed": true,
    "deletable": true,
    "editable": true
   },
   "outputs": [],
   "source": [
    "val methods = List(\n",
    "  Connect(\"connect body...\"),\n",
    "  Delete (\"delete body...\"),\n",
    "  Get    (\"get body...\"),\n",
    "  Head   (\"head body...\"),\n",
    "  Options(\"options body...\"),\n",
    "  Post   (\"post body...\"),\n",
    "  Put    (\"put body...\"),\n",
    "  Trace  (\"trace body...\")\n",
    ")"
   ]
  },
  {
   "cell_type": "code",
   "execution_count": 9,
   "metadata": {
    "collapsed": false,
    "deletable": true,
    "editable": true
   },
   "outputs": [
    {
     "name": "stdout",
     "output_type": "stream",
     "text": [
      "connect: connect body...\n",
      "delete: delete body...\n",
      "get: get body...\n",
      "head: head body...\n",
      "options: options body...\n",
      "post: post body...\n",
      "put: put body...\n",
      "trace: trace body...\n"
     ]
    }
   ],
   "source": [
    "methods.foreach { method => handle(method) }"
   ]
  },
  {
   "cell_type": "code",
   "execution_count": null,
   "metadata": {
    "collapsed": true,
    "deletable": true,
    "editable": true
   },
   "outputs": [],
   "source": []
  },
  {
   "cell_type": "markdown",
   "metadata": {
    "collapsed": true,
    "deletable": true,
    "editable": true
   },
   "source": [
    "## Linearization\n",
    "Link : https://code.google.com/p/scala-discovery/wiki/Linearization"
   ]
  },
  {
   "cell_type": "code",
   "execution_count": 9,
   "metadata": {
    "collapsed": false,
    "deletable": true,
    "editable": true
   },
   "outputs": [
    {
     "name": "stdout",
     "output_type": "stream",
     "text": [
      "$line45.$read.$iw.$iw.C2\n",
      "$line44.$read.$iw.$iw.T3\n",
      "$line43.$read.$iw.$iw.T2\n",
      "$line42.$read.$iw.$iw.T1\n",
      "$line41.$read.$iw.$iw.C1\n",
      "java.lang.Object\n",
      "scala.Any\n"
     ]
    },
    {
     "data": {
      "text/plain": [
       "Name: Syntax Error.\n",
       "Message: \n",
       "StackTrace: "
      ]
     },
     "execution_count": 9,
     "metadata": {},
     "output_type": "execute_result"
    }
   ],
   "source": [
    "class C1 {\n",
    "  def m = List(\"C1\")\n",
    "}\n",
    "trait T1 extends C1 {\n",
    "  override def m = {\"T1\" :: super.m}\n",
    "}\n",
    "trait T2 extends C1 {\n",
    "  override def m = {\"T2\" :: super.m}\n",
    "}\n",
    "trait T3 extends C1 {\n",
    "  override def m = {\"T3\" :: super.m}\n",
    "}\n",
    "class C2 extends T1 with T2 with T3 {\n",
    "  override def m = { \"C2\" :: super.m}\n",
    "}\n",
    "new C2().m\n",
    "//C2, T3, T2, T1, C1\n",
    "//Steps:\n",
    "//1. C2\n",
    "//1. C2 T1 T2 T3\n",
    "//2. C2 T3 T2 T1\n",
    "//3. C2 T3 C1 T2 C1 T1 C1\n",
    "//4. C2 T3 T2 T1 C1\n",
    "//6. C2 T3 T2 T1 C1 java.lang.Object scala.Any\n",
    "\n",
    "//1. Start with the class declaration and and drop the other keywords\n",
    "//2. Reverse the order of the list, except keep the first item  at the beginning,\n",
    "//3. Replace each item in the list except the first  with its linearization\n",
    "//4. Remove the classes on the left that appears twice on the right\n",
    "//??5. Insert a right-associative list-concatenation operator between each element in the list\n",
    "//6. Append the standard Scala classes ScalaObject, AnyRef, Any\n",
    "\n",
    "\n",
    "//To print class Linearization\n",
    "import scala.reflect.runtime.universe._\n",
    "//val tpe = typeOf[LinearRegressionModel]\n",
    "val tpe = typeOf[C2]\n",
    "tpe.baseClasses foreach { s => println(s.fullName) }\n",
    "\n",
    "class C3A extends T2 {\n",
    "  override def m = \"C3A\" :: super.m\n",
    "}\n",
    "\n",
    "class C3 extends C3A with T1 with T2 with T3 {\n",
    "  override def m = \"C3\" :: super.m\n",
    "}\n",
    "\n",
    "new C3().m\n",
    "//List(C3, T3, T1, C3A, T2, C1)\n",
    "\n",
    "\n",
    "//No need of override keyword when implementing abstract methods\n"
   ]
  },
  {
   "cell_type": "code",
   "execution_count": null,
   "metadata": {
    "collapsed": true
   },
   "outputs": [],
   "source": []
  }
 ],
 "metadata": {
  "kernelspec": {
   "display_name": "ToreeSpark - Scala",
   "language": "scala",
   "name": "toreespark_scala"
  },
  "language_info": {
   "codemirror_mode": "text/x-scala",
   "file_extension": ".scala",
   "mimetype": "text/x-scala",
   "name": "scala",
   "pygments_lexer": "scala",
   "version": "2.11.8"
  }
 },
 "nbformat": 4,
 "nbformat_minor": 2
}
