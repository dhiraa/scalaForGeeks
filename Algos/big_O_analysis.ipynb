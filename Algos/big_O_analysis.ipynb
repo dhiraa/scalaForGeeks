{
 "cells": [
  {
   "cell_type": "markdown",
   "metadata": {},
   "source": [
    "# which algorithm is better?\n",
    "The fastest-possible running time for any runtime analysis is O(1), commonly referred to as constant\n",
    "running time. An algorithm with constant running time always takes the same amount of time\n",
    "to execute, regardless of the input size. This is the ideal run time for an algorithm, but it’s rarely\n",
    "achievable."
   ]
  },
  {
   "cell_type": "markdown",
   "metadata": {},
   "source": [
    "The performance of most algorithms depends on n, the size of the input. The algorithms can be classified as follows from best-to-worse performance:\n",
    "- O(log n) — An algorithm is said to be logarithmic if its running time increases logarithmically in proportion to the input size.\n",
    "- O(n) — A linear algorithm’s running time increases in direct proportion to the input size.\n",
    "- O(n log n) — A superlinear algorithm is midway between a linear algorithm and a polynomial algorithm.\n",
    "- O(nc) — A polynomial algorithm grows quickly based on the size of the input.\n",
    "- O(cn) — An exponential algorithm grows even faster than a polynomial algorithm.\n",
    "- O(n!) — A factorial algorithm grows the fastest and becomes quickly unusable for even\n",
    "small values of n."
   ]
  },
  {
   "cell_type": "markdown",
   "metadata": {},
   "source": [
    "The run times of different orders of algorithms separate rapidly as n gets larger. Consider the run\n",
    "time for each of these algorithm classes with n = 10:"
   ]
  },
  {
   "cell_type": "markdown",
   "metadata": {},
   "source": [
    "- log 10 = 1\n",
    "- 10 = 10\n",
    "- 10 log 10 = 10\n",
    "- 10^2 = 100\n",
    "- 2^10= 1,024\n",
    "- 10! = 3,628,800"
   ]
  },
  {
   "cell_type": "markdown",
   "metadata": {},
   "source": [
    "Now double it to n = 20:  \n",
    "- log 20 = 1.30  \n",
    "- 20 = 20  \n",
    "- 20 log 20= 26.02  \n",
    "- 20^2 = 400  \n",
    "- 2^20 = 1,048,576  \n",
    "- 20! = 2.43×1018  \n",
    "\n",
    "Finding an algorithm that works in superlinear time or better can make a huge difference in how\n",
    "well an application performs."
   ]
  },
  {
   "cell_type": "code",
   "execution_count": null,
   "metadata": {
    "collapsed": true
   },
   "outputs": [],
   "source": []
  }
 ],
 "metadata": {
  "kernelspec": {
   "display_name": "ToreeSpark - Scala",
   "language": "scala",
   "name": "toreespark_scala"
  },
  "language_info": {
   "codemirror_mode": "text/x-scala",
   "file_extension": ".scala",
   "mimetype": "text/x-scala",
   "name": "scala",
   "pygments_lexer": "scala",
   "version": "2.11.8"
  }
 },
 "nbformat": 4,
 "nbformat_minor": 2
}
