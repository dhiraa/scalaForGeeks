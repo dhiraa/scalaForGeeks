{
 "cells": [
  {
   "cell_type": "markdown",
   "metadata": {},
   "source": [
    "### Merge Sort\n",
    "http://www.geeksforgeeks.org/merge-sort/\n",
    "- O(nLogn)\n",
    "- Usefull when sorting Linked List, as it doesn't need contiguous access"
   ]
  },
  {
   "cell_type": "code",
   "execution_count": 46,
   "metadata": {},
   "outputs": [],
   "source": [
    "def mergeSort(array: Array[Int]) = {\n",
    "    def merge(leftArr: Array[Int], rightArr: Array[Int]): Array[Int] = {\n",
    "        (leftArr, rightArr) match {\n",
    "            case (l, r) if (l.size ==0) => r\n",
    "            case (l, r) if (r.size ==0) => l\n",
    "            case (l,r) => \n",
    "            if(l.head < r.head) \n",
    "                Array(l.head) ++ merge(l.tail, r) \n",
    "            else \n",
    "                Array(r.head) ++ merge(l, r.tail)\n",
    "        }\n",
    "    }\n",
    "    def sort(arr: Array[Int]): Array[Int] = {\n",
    "        val m = arr.size/2\n",
    "        if(m==0) \n",
    "            arr\n",
    "        else {\n",
    "            val (left, right) = arr.splitAt(m)\n",
    "            merge(sort(left), sort(right))\n",
    "        }\n",
    "    }\n",
    "    \n",
    "    sort(array)\n",
    "}"
   ]
  },
  {
   "cell_type": "code",
   "execution_count": 47,
   "metadata": {},
   "outputs": [
    {
     "data": {
      "text/plain": [
       "Array(1, 2, 3, 4, 6, 7, 8, 9, 10)"
      ]
     },
     "execution_count": 47,
     "metadata": {},
     "output_type": "execute_result"
    }
   ],
   "source": [
    "mergeSort(Array(1,4,6,10,7,9,3,8,2))"
   ]
  },
  {
   "cell_type": "code",
   "execution_count": 31,
   "metadata": {},
   "outputs": [
    {
     "data": {
      "text/plain": [
       "1"
      ]
     },
     "execution_count": 31,
     "metadata": {},
     "output_type": "execute_result"
    }
   ],
   "source": [
    "val a = Array(1,4,6,10,7,9,3,8,2)\n",
    "val (l,r) = a.splitAt(a.size/2)\n",
    "2/2"
   ]
  },
  {
   "cell_type": "code",
   "execution_count": 48,
   "metadata": {
    "collapsed": true
   },
   "outputs": [],
   "source": [
    "def mergeSort(xs: List[Int]): List[Int] = {\n",
    "  val n = xs.length / 2\n",
    "  if (n == 0) xs\n",
    "  else {\n",
    "    def merge(xs: List[Int], ys: List[Int]): List[Int] =\n",
    "        (xs, ys) match {\n",
    "        case(Nil, ys) => ys\n",
    "        case(xs, Nil) => xs\n",
    "        case(x :: xs1, y :: ys1) =>\n",
    "          if (x < y) x::merge(xs1, ys)\n",
    "          else y :: merge(xs, ys1)\n",
    "    }\n",
    "    val (left, right) = xs splitAt(n)\n",
    "    merge(mergeSort(left), mergeSort(right))\n",
    "  }\n",
    "} "
   ]
  },
  {
   "cell_type": "markdown",
   "metadata": {},
   "source": [
    "Key discussion points:\n",
    "\n",
    "- It is the same divide and conquer idea.\n",
    "- The splitAt function is used to divide up the data up each time into a tuple. For every recursion this will new a new tuple.\n",
    "- The local function merge is then used to perform the merging. Local functions are a useful feature as they help promote encapsulation and prevent code bloat.\n",
    "- Neiher the mergeSort() or merge() functions have any side effects. They don't change any object. They create (and throw away) objects.\n",
    "- Because the data is not been passed across iterations of the merging, there is no need to pass beginning and ending pointers which can get very buggy.\n",
    "- This merge recursion uses pattern matching to great effect here. Not only is there matching for data lists but when a match happens the data lists are assigned to variables:\n",
    "    - x meaning the top element in the left list\n",
    "    - xs1 the rest of the left list\n",
    "    - y meaning the top element in the right list\n",
    "    - ys1 meaning the rest of the data in the right list"
   ]
  },
  {
   "cell_type": "code",
   "execution_count": null,
   "metadata": {
    "collapsed": true
   },
   "outputs": [],
   "source": []
  }
 ],
 "metadata": {
  "kernelspec": {
   "display_name": "ToreeSpark - Scala",
   "language": "scala",
   "name": "toreespark_scala"
  },
  "language_info": {
   "codemirror_mode": "text/x-scala",
   "file_extension": ".scala",
   "mimetype": "text/x-scala",
   "name": "scala",
   "pygments_lexer": "scala",
   "version": "2.11.8"
  }
 },
 "nbformat": 4,
 "nbformat_minor": 2
}
