{
 "cells": [
  {
   "cell_type": "markdown",
   "metadata": {},
   "source": [
    "**Write a function that returns the maximum positive number stored in an Array**"
   ]
  },
  {
   "cell_type": "code",
   "execution_count": 9,
   "metadata": {
    "collapsed": false
   },
   "outputs": [
    {
     "data": {
      "text/plain": [
       "Vector(763, 248, 884, 970, 525, 505, 918, 519, 93, 182, 502, 276, 292, 476, 32, 456, 170, 743, 209, 400, 863, 226, 913, 243, 241, 30, 458, 387, 246, 730, 756, 430, 85, 217, 727, 212, 93, 713, 164, 379, 65, 823, 737, 975, 534, 807, 935, 157, 443, 193, 440, 558, 756, 160, 410, 713, 59, 261, 3, 897, 819, 552, 601, 94, 794, 798, 719, 775, 499, 390, 501, 453, 429, 573, 733, 986, 460, 625, 93, 200, 594, 403, 142, 807, 593, 109, 744, 398, 479, 747, 696, 923, 295, 759, 823, 229, 976, 476, 328, 870, 140, 532, 29, 983, 911, 709, 246, 275, 522, 846, 104, 597, 451, 31, 670, 806, 795, 606, 679, 246, 228, 958, 323, 652, 332, 322, 923, 433, 402, 352, 172)"
      ]
     },
     "execution_count": 9,
     "metadata": {},
     "output_type": "execute_result"
    }
   ],
   "source": [
    "import scala.util.Random\n",
    "val rng = new scala.util.Random(42)\n",
    "val values = for (i <- 0 to rng.nextInt(1000)) yield rng.nextInt(1000)\n",
    "values"
   ]
  },
  {
   "cell_type": "code",
   "execution_count": 10,
   "metadata": {
    "collapsed": false
   },
   "outputs": [
    {
     "data": {
      "text/plain": [
       "131"
      ]
     },
     "execution_count": 10,
     "metadata": {},
     "output_type": "execute_result"
    }
   ],
   "source": [
    "values.size"
   ]
  },
  {
   "cell_type": "code",
   "execution_count": 14,
   "metadata": {
    "collapsed": false
   },
   "outputs": [],
   "source": [
    "var max = -1\n",
    "values.foreach(v => if(v > max) max = v) //O(n)"
   ]
  },
  {
   "cell_type": "code",
   "execution_count": 15,
   "metadata": {
    "collapsed": false
   },
   "outputs": [
    {
     "name": "stdout",
     "output_type": "stream",
     "text": [
      "(986,986)"
     ]
    }
   ],
   "source": [
    "print(values.max, max)"
   ]
  },
  {
   "cell_type": "code",
   "execution_count": null,
   "metadata": {
    "collapsed": true
   },
   "outputs": [],
   "source": []
  }
 ],
 "metadata": {
  "kernelspec": {
   "display_name": "ToreeSpark - Scala",
   "language": "scala",
   "name": "toreespark_scala"
  },
  "language_info": {
   "codemirror_mode": "text/x-scala",
   "file_extension": ".scala",
   "mimetype": "text/x-scala",
   "name": "scala",
   "pygments_lexer": "scala",
   "version": "2.11.8"
  }
 },
 "nbformat": 4,
 "nbformat_minor": 2
}
