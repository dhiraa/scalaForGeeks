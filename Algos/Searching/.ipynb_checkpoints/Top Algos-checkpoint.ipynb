{
 "cells": [
  {
   "cell_type": "markdown",
   "metadata": {},
   "source": [
    "### Linear Search\n",
    "- http://www.geeksforgeeks.org/linear-search/"
   ]
  },
  {
   "cell_type": "code",
   "execution_count": null,
   "metadata": {},
   "outputs": [],
   "source": [
    "def linearSearch(arr: Array[Int], value: Int) : Int = {\n",
    "    for (i <- 0 until arr.size ) {\n",
    "        if(value == arr(i))\n",
    "            return i\n",
    "    }\n",
    "    return -1\n",
    "}"
   ]
  },
  {
   "cell_type": "code",
   "execution_count": null,
   "metadata": {},
   "outputs": [],
   "source": [
    "linearSearch(Array(1,2,3,4,5,6,77,8), 77)"
   ]
  },
  {
   "cell_type": "markdown",
   "metadata": {},
   "source": [
    "### Binary Search\n",
    "- http://www.geeksforgeeks.org/binary-search/"
   ]
  },
  {
   "cell_type": "code",
   "execution_count": 1,
   "metadata": {},
   "outputs": [],
   "source": [
    "def binraySearch(arr: Array[Int], value: Int): Int = {\n",
    "//     @annotation.tailrec\n",
    "    def loop(arra: Array[Int], leftIndex: Int, rightIndex: Int, value: Int): Int = {       \n",
    "        val midIndex = (leftIndex + (rightIndex)) / 2\n",
    "        val midValue = arra(midIndex)\n",
    "        \n",
    "        println(leftIndex, midIndex, rightIndex, \"|\" , midValue, \"==\", value)\n",
    "        \n",
    "        if(value == midValue) {\n",
    "            return midIndex\n",
    "        }\n",
    "        \n",
    "        if (value < midValue) {\n",
    "            println(\"<---left\")\n",
    "            return loop(arra, leftIndex, midIndex-1, value)\n",
    "        }\n",
    "        else {\n",
    "            println(\"right--->\")\n",
    "            return loop(arra, midIndex+1, rightIndex, value)\n",
    "        }\n",
    "        return -1\n",
    "    }\n",
    "    \n",
    "    loop(arr, 0, arr.size-1, value)\n",
    "}\n"
   ]
  },
  {
   "cell_type": "code",
   "execution_count": 2,
   "metadata": {},
   "outputs": [
    {
     "name": "stdout",
     "output_type": "stream",
     "text": [
      "(0,3,7,|,4,==,1)\n",
      "<---left\n",
      "(0,1,2,|,2,==,1)\n",
      "<---left\n",
      "(0,0,0,|,1,==,1)\n"
     ]
    },
    {
     "data": {
      "text/plain": [
       "0"
      ]
     },
     "execution_count": 2,
     "metadata": {},
     "output_type": "execute_result"
    }
   ],
   "source": [
    "binraySearch(Array(1,2,3,4,5,6,7,8), 1)"
   ]
  },
  {
   "cell_type": "code",
   "execution_count": 3,
   "metadata": {},
   "outputs": [
    {
     "name": "stdout",
     "output_type": "stream",
     "text": [
      "(0,3,7,|,4,==,4)\n"
     ]
    },
    {
     "data": {
      "text/plain": [
       "3"
      ]
     },
     "execution_count": 3,
     "metadata": {},
     "output_type": "execute_result"
    }
   ],
   "source": [
    "binraySearch(Array(1,2,3,4,5,6,7,8), 4)"
   ]
  },
  {
   "cell_type": "code",
   "execution_count": 4,
   "metadata": {},
   "outputs": [
    {
     "name": "stdout",
     "output_type": "stream",
     "text": [
      "(0,3,7,|,4,==,5)\n",
      "right--->\n",
      "(4,5,7,|,6,==,5)\n",
      "<---left\n",
      "(4,4,4,|,5,==,5)\n"
     ]
    },
    {
     "data": {
      "text/plain": [
       "4"
      ]
     },
     "execution_count": 4,
     "metadata": {},
     "output_type": "execute_result"
    }
   ],
   "source": [
    "binraySearch(Array(1,2,3,4,5,6,7,8), 5)"
   ]
  },
  {
   "cell_type": "code",
   "execution_count": 5,
   "metadata": {},
   "outputs": [
    {
     "name": "stdout",
     "output_type": "stream",
     "text": [
      "(0,3,7,|,4,==,8)\n",
      "right--->\n",
      "(4,5,7,|,6,==,8)\n",
      "right--->\n",
      "(6,6,7,|,7,==,8)\n",
      "right--->\n",
      "(7,7,7,|,8,==,8)\n"
     ]
    },
    {
     "data": {
      "text/plain": [
       "7"
      ]
     },
     "execution_count": 5,
     "metadata": {},
     "output_type": "execute_result"
    }
   ],
   "source": [
    "binraySearch(Array(1,2,3,4,5,6,7,8), 8)"
   ]
  },
  {
   "cell_type": "code",
   "execution_count": 28,
   "metadata": {},
   "outputs": [
    {
     "name": "stdout",
     "output_type": "stream",
     "text": [
      "(0,4,8,|,5,==,9)\n",
      "--->right\n",
      "(5,6,8,|,7,==,9)\n",
      "--->right\n",
      "(7,7,8,|,8,==,9)\n",
      "--->right\n",
      "(8,8,8,|,9,==,9)\n"
     ]
    },
    {
     "data": {
      "text/plain": [
       "8"
      ]
     },
     "execution_count": 28,
     "metadata": {},
     "output_type": "execute_result"
    }
   ],
   "source": [
    "binraySearch(Array(1,2,3,4,5,6,7,8,9), 9)"
   ]
  },
  {
   "cell_type": "code",
   "execution_count": 41,
   "metadata": {},
   "outputs": [],
   "source": [
    "def binraySearch(arr: Array[Int], value: Int): Int = {\n",
    "    def loop(arra: Array[Int], leftIndex: Int, rightIndex: Int, value: Int): Int = {  \n",
    "        var _leftIndex: Int = leftIndex\n",
    "        var _rightIndex: Int = rightIndex\n",
    "        \n",
    "        while(_leftIndex <= _rightIndex) {\n",
    "            val midIndex: Int = (_leftIndex + _rightIndex) / 2\n",
    "            val midValue = arra(midIndex)\n",
    "            println(_leftIndex, midIndex, _rightIndex, \"|\" , midValue, \"==\", value)\n",
    "            if(value == midValue) {\n",
    "                return midIndex\n",
    "            }\n",
    "            if(value < midValue) {\n",
    "                println(\"<---left\")\n",
    "                _rightIndex = midIndex-1\n",
    "            }\n",
    "            else {\n",
    "                 println(\"--->right\")\n",
    "                _leftIndex = midIndex+1\n",
    "            }\n",
    "        }\n",
    "        return -1\n",
    "    }\n",
    "    \n",
    "    loop(arr, 0, arr.size-1, value)\n",
    "}\n"
   ]
  },
  {
   "cell_type": "code",
   "execution_count": 42,
   "metadata": {},
   "outputs": [
    {
     "name": "stdout",
     "output_type": "stream",
     "text": [
      "(0,3,6,|,3,==,3)\n"
     ]
    },
    {
     "data": {
      "text/plain": [
       "3"
      ]
     },
     "execution_count": 42,
     "metadata": {},
     "output_type": "execute_result"
    }
   ],
   "source": [
    "binraySearch(Array(0,1,2,3,4,5,6), 3)"
   ]
  },
  {
   "cell_type": "code",
   "execution_count": 43,
   "metadata": {},
   "outputs": [
    {
     "name": "stdout",
     "output_type": "stream",
     "text": [
      "(0,3,6,|,3,==,0)\n",
      "<---left\n",
      "(0,1,3,|,1,==,0)\n",
      "<---left\n",
      "(0,0,1,|,0,==,0)\n"
     ]
    },
    {
     "data": {
      "text/plain": [
       "0"
      ]
     },
     "execution_count": 43,
     "metadata": {},
     "output_type": "execute_result"
    }
   ],
   "source": [
    "binraySearch(Array(0,1,2,3,4,5,6), 0)"
   ]
  },
  {
   "cell_type": "code",
   "execution_count": 44,
   "metadata": {},
   "outputs": [
    {
     "name": "stdout",
     "output_type": "stream",
     "text": [
      "(0,3,6,|,3,==,6)\n",
      "--->right\n",
      "(4,5,6,|,5,==,6)\n",
      "--->right\n",
      "(6,6,6,|,6,==,6)\n"
     ]
    },
    {
     "data": {
      "text/plain": [
       "6"
      ]
     },
     "execution_count": 44,
     "metadata": {},
     "output_type": "execute_result"
    }
   ],
   "source": [
    "binraySearch(Array(0,1,2,3,4,5,6), 6)"
   ]
  },
  {
   "cell_type": "markdown",
   "metadata": {},
   "source": [
    "### Jump Search\n",
    "http://www.geeksforgeeks.org/jump-search/   \n",
    "http://www.geeksforgeeks.org/exponential-search/"
   ]
  },
  {
   "cell_type": "code",
   "execution_count": 1,
   "metadata": {},
   "outputs": [
    {
     "data": {
      "text/plain": [
       "Vector(4, 5, 5, 6, 6, 6, 7, 8, 9, 11, 13, 13, 13, 14, 14, 15, 16, 17, 18, 20, 20, 21, 21, 21, 22, 22, 24, 25, 28, 29, 31, 32, 33, 34, 34, 34, 36, 37, 38, 40, 41, 41, 41, 42, 43, 45, 45, 48, 48, 48, 48, 50, 50, 51, 54, 54, 55, 57, 59, 60, 61, 62, 64, 64, 65, 65, 66, 68, 73, 74, 74, 76, 76, 76, 77, 78, 79, 81, 81, 81, 82, 83, 85, 86, 86, 87, 88, 88, 88, 89, 90, 90, 90, 90, 91, 91, 92, 94, 97, 98, 99)"
      ]
     },
     "execution_count": 1,
     "metadata": {},
     "output_type": "execute_result"
    }
   ],
   "source": [
    "val rnd = scala.util.Random\n",
    "\n",
    "val array = for (i <- 0 to 100) yield rnd.nextInt(100)\n",
    "array.sorted"
   ]
  },
  {
   "cell_type": "code",
   "execution_count": 3,
   "metadata": {},
   "outputs": [],
   "source": [
    "def jumpSearch(arr: Array[Int], value: Int): Int = {\n",
    "    val m: Int = Math.floor(Math.sqrt(arr.size)).toInt\n",
    "\n",
    "    def findBlock(): Int = {\n",
    "        var i = 0\n",
    "        while(i < arr.size) {\n",
    "//             println(i, m, value, arr(i))\n",
    "            if (value < arr(i))\n",
    "                return i - m\n",
    "            i = i + m\n",
    "        }\n",
    "        return -1\n",
    "    }\n",
    "    \n",
    "    var blockI = findBlock()\n",
    "    while (blockI < blockI+m) {\n",
    "        if(value == arr(blockI))\n",
    "            return blockI\n",
    "        blockI = blockI+1\n",
    "    }\n",
    "    return -1\n",
    "}"
   ]
  },
  {
   "cell_type": "code",
   "execution_count": 7,
   "metadata": {},
   "outputs": [
    {
     "data": {
      "text/plain": [
       "40"
      ]
     },
     "execution_count": 7,
     "metadata": {},
     "output_type": "execute_result"
    }
   ],
   "source": [
    "val arr = array.sorted.toArray\n",
    "jumpSearch(arr, 41)"
   ]
  },
  {
   "cell_type": "code",
   "execution_count": 8,
   "metadata": {},
   "outputs": [
    {
     "data": {
      "text/plain": [
       "41"
      ]
     },
     "execution_count": 8,
     "metadata": {},
     "output_type": "execute_result"
    }
   ],
   "source": [
    "\n",
    "arr(40)"
   ]
  },
  {
   "cell_type": "markdown",
   "metadata": {},
   "source": [
    "###  Interploration Search\n",
    "- http://www.geeksforgeeks.org/interpolation-search/"
   ]
  },
  {
   "cell_type": "markdown",
   "metadata": {},
   "source": [
    "### Sublist Search\n",
    "- http://www.geeksforgeeks.org/sublist-search-search-a-linked-list-in-another-list/"
   ]
  },
  {
   "cell_type": "code",
   "execution_count": 2,
   "metadata": {},
   "outputs": [
    {
     "data": {
      "text/plain": [
       "Cons(1,Cons(2,Cons(3,Cons(4,Cons(5,Nil)))))"
      ]
     },
     "execution_count": 2,
     "metadata": {},
     "output_type": "execute_result"
    }
   ],
   "source": [
    "sealed trait List[+A]\n",
    "case object Nil extends List[Nothing]\n",
    "case class Cons[+A](value: A, next: List[A]) extends List[A]\n",
    "\n",
    "object List {\n",
    "    def apply[A](values: A*): List[A] = {\n",
    "        if(values.isEmpty) Nil\n",
    "        else Cons(values.head, apply(values.tail: _*))\n",
    "    }\n",
    "}\n",
    "\n",
    "val l = List(1,2,3,4,5)\n",
    "l"
   ]
  },
  {
   "cell_type": "code",
   "execution_count": 38,
   "metadata": {},
   "outputs": [],
   "source": [
    "//1. Take first element 'a' from the subList \n",
    "//2. Take first element 'b' from the list\n",
    "//3. Match a and b if matches \n",
    "def searchSubList[A](list: List[A], subList: List[A]): Boolean = {\n",
    "    def loop(list: List[A], subList: List[A], status: Boolean) : Boolean= {\n",
    "        subList match {\n",
    "            case Nil => status\n",
    "            case Cons(value1, tail1) => list match {\n",
    "                case Nil => status \n",
    "                case Cons(value2, tail2) => {\n",
    "                    if(value1 == value2) {\n",
    "                        return loop(tail2, tail1, true)\n",
    "                    } else {\n",
    "                        return loop(tail2, subList, false)\n",
    "                    }\n",
    "                }\n",
    "            }\n",
    "        }\n",
    "        status\n",
    "    }                                                                                                                               \n",
    "    loop(list, subList, false)\n",
    "}"
   ]
  },
  {
   "cell_type": "code",
   "execution_count": 39,
   "metadata": {},
   "outputs": [
    {
     "data": {
      "text/plain": [
       "true"
      ]
     },
     "execution_count": 39,
     "metadata": {},
     "output_type": "execute_result"
    }
   ],
   "source": [
    "searchSubList(List(1,2,3,4,5,6,7,8,9), List(4,5,6))"
   ]
  },
  {
   "cell_type": "code",
   "execution_count": 40,
   "metadata": {},
   "outputs": [
    {
     "data": {
      "text/plain": [
       "false"
      ]
     },
     "execution_count": 40,
     "metadata": {},
     "output_type": "execute_result"
    }
   ],
   "source": [
    "searchSubList(List(1,2,3,4,5,46,7,8,9), List(4,5,6))"
   ]
  },
  {
   "cell_type": "code",
   "execution_count": null,
   "metadata": {
    "collapsed": true
   },
   "outputs": [],
   "source": []
  },
  {
   "cell_type": "code",
   "execution_count": null,
   "metadata": {
    "collapsed": true
   },
   "outputs": [],
   "source": []
  },
  {
   "cell_type": "code",
   "execution_count": null,
   "metadata": {
    "collapsed": true
   },
   "outputs": [],
   "source": []
  },
  {
   "cell_type": "code",
   "execution_count": null,
   "metadata": {
    "collapsed": true
   },
   "outputs": [],
   "source": []
  },
  {
   "cell_type": "code",
   "execution_count": null,
   "metadata": {
    "collapsed": true
   },
   "outputs": [],
   "source": []
  },
  {
   "cell_type": "code",
   "execution_count": null,
   "metadata": {
    "collapsed": true
   },
   "outputs": [],
   "source": []
  },
  {
   "cell_type": "code",
   "execution_count": null,
   "metadata": {
    "collapsed": true
   },
   "outputs": [],
   "source": []
  },
  {
   "cell_type": "code",
   "execution_count": null,
   "metadata": {
    "collapsed": true
   },
   "outputs": [],
   "source": []
  },
  {
   "cell_type": "code",
   "execution_count": null,
   "metadata": {
    "collapsed": true
   },
   "outputs": [],
   "source": []
  },
  {
   "cell_type": "code",
   "execution_count": null,
   "metadata": {
    "collapsed": true
   },
   "outputs": [],
   "source": []
  },
  {
   "cell_type": "code",
   "execution_count": null,
   "metadata": {
    "collapsed": true
   },
   "outputs": [],
   "source": []
  },
  {
   "cell_type": "code",
   "execution_count": null,
   "metadata": {
    "collapsed": true
   },
   "outputs": [],
   "source": []
  },
  {
   "cell_type": "code",
   "execution_count": null,
   "metadata": {
    "collapsed": true
   },
   "outputs": [],
   "source": []
  },
  {
   "cell_type": "code",
   "execution_count": null,
   "metadata": {
    "collapsed": true
   },
   "outputs": [],
   "source": []
  },
  {
   "cell_type": "code",
   "execution_count": null,
   "metadata": {
    "collapsed": true
   },
   "outputs": [],
   "source": []
  },
  {
   "cell_type": "code",
   "execution_count": null,
   "metadata": {
    "collapsed": true
   },
   "outputs": [],
   "source": []
  },
  {
   "cell_type": "code",
   "execution_count": null,
   "metadata": {
    "collapsed": true
   },
   "outputs": [],
   "source": []
  },
  {
   "cell_type": "code",
   "execution_count": null,
   "metadata": {
    "collapsed": true
   },
   "outputs": [],
   "source": []
  },
  {
   "cell_type": "code",
   "execution_count": null,
   "metadata": {
    "collapsed": true
   },
   "outputs": [],
   "source": []
  },
  {
   "cell_type": "code",
   "execution_count": null,
   "metadata": {
    "collapsed": true
   },
   "outputs": [],
   "source": []
  },
  {
   "cell_type": "code",
   "execution_count": null,
   "metadata": {
    "collapsed": true
   },
   "outputs": [],
   "source": []
  },
  {
   "cell_type": "code",
   "execution_count": null,
   "metadata": {
    "collapsed": true
   },
   "outputs": [],
   "source": []
  },
  {
   "cell_type": "code",
   "execution_count": null,
   "metadata": {
    "collapsed": true
   },
   "outputs": [],
   "source": []
  },
  {
   "cell_type": "code",
   "execution_count": null,
   "metadata": {
    "collapsed": true
   },
   "outputs": [],
   "source": []
  },
  {
   "cell_type": "code",
   "execution_count": null,
   "metadata": {
    "collapsed": true
   },
   "outputs": [],
   "source": []
  },
  {
   "cell_type": "code",
   "execution_count": null,
   "metadata": {
    "collapsed": true
   },
   "outputs": [],
   "source": []
  },
  {
   "cell_type": "code",
   "execution_count": null,
   "metadata": {
    "collapsed": true
   },
   "outputs": [],
   "source": []
  },
  {
   "cell_type": "code",
   "execution_count": null,
   "metadata": {
    "collapsed": true
   },
   "outputs": [],
   "source": []
  },
  {
   "cell_type": "code",
   "execution_count": null,
   "metadata": {
    "collapsed": true
   },
   "outputs": [],
   "source": []
  },
  {
   "cell_type": "code",
   "execution_count": null,
   "metadata": {
    "collapsed": true
   },
   "outputs": [],
   "source": []
  },
  {
   "cell_type": "code",
   "execution_count": null,
   "metadata": {
    "collapsed": true
   },
   "outputs": [],
   "source": []
  },
  {
   "cell_type": "code",
   "execution_count": null,
   "metadata": {
    "collapsed": true
   },
   "outputs": [],
   "source": []
  },
  {
   "cell_type": "code",
   "execution_count": null,
   "metadata": {
    "collapsed": true
   },
   "outputs": [],
   "source": []
  },
  {
   "cell_type": "code",
   "execution_count": null,
   "metadata": {
    "collapsed": true
   },
   "outputs": [],
   "source": []
  },
  {
   "cell_type": "code",
   "execution_count": null,
   "metadata": {
    "collapsed": true
   },
   "outputs": [],
   "source": []
  },
  {
   "cell_type": "code",
   "execution_count": null,
   "metadata": {
    "collapsed": true
   },
   "outputs": [],
   "source": []
  },
  {
   "cell_type": "code",
   "execution_count": null,
   "metadata": {
    "collapsed": true
   },
   "outputs": [],
   "source": []
  },
  {
   "cell_type": "code",
   "execution_count": null,
   "metadata": {
    "collapsed": true
   },
   "outputs": [],
   "source": []
  },
  {
   "cell_type": "code",
   "execution_count": null,
   "metadata": {
    "collapsed": true
   },
   "outputs": [],
   "source": []
  },
  {
   "cell_type": "code",
   "execution_count": null,
   "metadata": {
    "collapsed": true
   },
   "outputs": [],
   "source": []
  },
  {
   "cell_type": "code",
   "execution_count": null,
   "metadata": {
    "collapsed": true
   },
   "outputs": [],
   "source": []
  },
  {
   "cell_type": "code",
   "execution_count": null,
   "metadata": {
    "collapsed": true
   },
   "outputs": [],
   "source": []
  },
  {
   "cell_type": "code",
   "execution_count": null,
   "metadata": {
    "collapsed": true
   },
   "outputs": [],
   "source": []
  },
  {
   "cell_type": "markdown",
   "metadata": {},
   "source": [
    "http://www.geeksforgeeks.org/searching-for-patterns-set-1-naive-pattern-searching/"
   ]
  },
  {
   "cell_type": "code",
   "execution_count": null,
   "metadata": {},
   "outputs": [],
   "source": [
    "Input:  txt[] = \"THIS IS A TEST TEXT\"\n",
    "        pat[] = \"TEST\"\n",
    "Output: Pattern found at index 10\n",
    "\n",
    "Input:  txt[] =  \"AABAACAADAABAABA\"\n",
    "        pat[] =  \"AABA\"\n",
    "Output: Pattern found at index 0\n",
    "        Pattern found at index 9\n",
    "        Pattern found at index 12"
   ]
  },
  {
   "cell_type": "code",
   "execution_count": null,
   "metadata": {},
   "outputs": [],
   "source": [
    "import util.control.Breaks._\n",
    "def findPatternIndex(text: String, pattern: String) = {\n",
    "    val n = text.size\n",
    "    val m = pattern.size\n",
    "    \n",
    "    var i=0\n",
    "    var j=0\n",
    "    \n",
    "    while(i<=n-m) {\n",
    "        j = 0\n",
    "        breakable {\n",
    "            while (j<m) {\n",
    "                if(text(i+j) != pattern(j)) \n",
    "                    break\n",
    "                j = j+1\n",
    "            }\n",
    "        }\n",
    "        if(j == m)\n",
    "            println(\"Pattern found at index: \", i)\n",
    "        i = i+1\n",
    "\n",
    "    }\n",
    "\n",
    "}"
   ]
  },
  {
   "cell_type": "code",
   "execution_count": null,
   "metadata": {},
   "outputs": [],
   "source": [
    "findPatternIndex(\"0123456789\", \"012\")"
   ]
  },
  {
   "cell_type": "code",
   "execution_count": null,
   "metadata": {},
   "outputs": [],
   "source": [
    "findPatternIndex(\"0123456789\", \"789\")"
   ]
  },
  {
   "cell_type": "code",
   "execution_count": null,
   "metadata": {},
   "outputs": [],
   "source": [
    "findPatternIndex(\"THIS IS A TEST TEXT\", \"TEST\")"
   ]
  },
  {
   "cell_type": "code",
   "execution_count": null,
   "metadata": {},
   "outputs": [],
   "source": [
    "findPatternIndex(\"AAAAAAAAAA\", \"AAA\")"
   ]
  },
  {
   "cell_type": "code",
   "execution_count": null,
   "metadata": {},
   "outputs": [],
   "source": [
    "findPatternIndex(\"AAAAAAAAAAB\", \"AAB\")"
   ]
  },
  {
   "cell_type": "code",
   "execution_count": null,
   "metadata": {
    "collapsed": true
   },
   "outputs": [],
   "source": [
    "findPatternIndex(\"ABABABCABABABCABABABC\", \"ABABAC\")"
   ]
  },
  {
   "cell_type": "code",
   "execution_count": null,
   "metadata": {
    "collapsed": true
   },
   "outputs": [],
   "source": []
  }
 ],
 "metadata": {
  "kernelspec": {
   "display_name": "ToreeSpark - Scala",
   "language": "scala",
   "name": "toreespark_scala"
  },
  "language_info": {
   "codemirror_mode": "text/x-scala",
   "file_extension": ".scala",
   "mimetype": "text/x-scala",
   "name": "scala",
   "pygments_lexer": "scala",
   "version": "2.11.8"
  }
 },
 "nbformat": 4,
 "nbformat_minor": 2
}
