{
 "cells": [
  {
   "cell_type": "markdown",
   "metadata": {
    "deletable": true,
    "editable": true
   },
   "source": [
    "### Count:\n",
    "Returns the number of items stored within a RDD.\n",
    "\n",
    "### countApprox:\n",
    "\n",
    "### countByKey[Pair]:\n",
    "Very similar to count, but counts the values of a RDD consisting of two-component\n",
    "tuples for each distinct key separately.\n",
    "\n",
    "### countByKeyApprox[Pair]:\n",
    "\n",
    "### countByValue:\n",
    "  Returns a map that contains all unique values of the RDD and their respective occurrence\n",
    "counts. (Warning: This operation will finally aggregate the information in a single\n",
    "reducer!)\n",
    "\n",
    "### countByValueApprox:\n",
    "\n",
    "### countApproxDistinct:\n",
    "Computes the approximate number of distinct values. For large RDDs which are spread\n",
    "across many nodes, this function may execute faster than other counting methods. The\n",
    "parameter relativeSD controls the accuracy of the computation.\n",
    "\n",
    "### countApproxDistinctByKey[Pair]\n",
    "Similar to countApproxDistinct, but computes the approximate number of distinct values\n",
    "for each distinct key. Hence, the RDD must consist of two-component tuples. For large\n",
    "RDDs which are spread across many nodes, this function may execute faster than other\n",
    "counting methods. The parameter relativeSD controls the accuracy of the computation.\n",
    " "
   ]
  },
  {
   "cell_type": "code",
   "execution_count": 1,
   "metadata": {
    "collapsed": false
   },
   "outputs": [
    {
     "name": "stdout",
     "output_type": "stream",
     "text": [
      "4\n"
     ]
    }
   ],
   "source": [
    "val c = sc.parallelize(List(\"Gnu\",\"Cat\",\"Rat\",\"Dog\"), 2)\n",
    "println(c.count) //4"
   ]
  },
  {
   "cell_type": "code",
   "execution_count": null,
   "metadata": {
    "collapsed": true
   },
   "outputs": [],
   "source": []
  },
  {
   "cell_type": "code",
   "execution_count": 4,
   "metadata": {
    "collapsed": false
   },
   "outputs": [
    {
     "name": "stdout",
     "output_type": "stream",
     "text": [
      "Map(3 -> 3, 5 -> 1)\n"
     ]
    }
   ],
   "source": [
    "val d = sc.parallelize(List((3,\"Gnu\"),(3,\"Yak\"),(5,\"Mouse\"),(3,\"Dog\")),2)\n",
    "println(d.countByKey)"
   ]
  },
  {
   "cell_type": "code",
   "execution_count": 5,
   "metadata": {
    "collapsed": false
   },
   "outputs": [
    {
     "name": "stdout",
     "output_type": "stream",
     "text": [
      "Map(5 -> 1, 1 -> 6, 6 -> 1, 2 -> 3, 7 -> 1, 3 -> 1, 8 -> 1, 4 -> 2)\n"
     ]
    }
   ],
   "source": [
    "val b = sc.parallelize(List(1,2,3,4,5,6,7,8,2,4,2,1,1,1,1,1))\n",
    "println(b.countByValue) "
   ]
  },
  {
   "cell_type": "code",
   "execution_count": 6,
   "metadata": {
    "collapsed": false
   },
   "outputs": [
    {
     "name": "stdout",
     "output_type": "stream",
     "text": [
      "8224\n",
      "9760\n",
      "9947\n",
      "[Stage 26:================================================>      (89 + 5) / 100]10000\n"
     ]
    }
   ],
   "source": [
    "val a = sc.parallelize(1 to 10000,20)\n",
    "val e = a ++ a ++ a ++ a ++ a\n",
    "println(e.countApproxDistinct(0.1)) //8224\n",
    "println(e.countApproxDistinct(0.05)) //9760\n",
    "println(e.countApproxDistinct(0.01)) //9947\n",
    "println(e.countApproxDistinct(0.001)) //10000"
   ]
  },
  {
   "cell_type": "code",
   "execution_count": 7,
   "metadata": {
    "collapsed": false
   },
   "outputs": [
    {
     "name": "stdout",
     "output_type": "stream",
     "text": [
      "---\n",
      "(Rat,2505)\n",
      "(Cat,2480)\n",
      "(Dog,2562)\n",
      "(Gnu,2437)\n",
      "---\n",
      "(Rat,2516)                                                                      \n",
      "(Cat,2484)\n",
      "(Dog,2558)\n",
      "(Gnu,2439)\n"
     ]
    }
   ],
   "source": [
    "val a1 = sc.parallelize(List(\"Gnu\",\"Cat\",\"Rat\",\"Dog\"),2)\n",
    "val b1 = sc.parallelize(a1.takeSample(true,10000,0),20)\n",
    "val c1 = sc.parallelize(1 to b1.count().toInt,20)\n",
    "val d1 = b1.zip(c1)\n",
    "d1.countApproxDistinctByKey(0.1) foreach println\n",
    "println(\"---\")\n",
    "d1.countApproxDistinctByKey(0.01).collect foreach println\n",
    "println(\"---\")\n",
    "d1.countApproxDistinctByKey(0.001).collect foreach println"
   ]
  },
  {
   "cell_type": "code",
   "execution_count": null,
   "metadata": {
    "collapsed": true,
    "deletable": true,
    "editable": true
   },
   "outputs": [],
   "source": []
  }
 ],
 "metadata": {
  "kernelspec": {
   "display_name": "ToreeSpark - Scala",
   "language": "scala",
   "name": "toreespark_scala"
  },
  "language_info": {
   "codemirror_mode": "text/x-scala",
   "file_extension": ".scala",
   "mimetype": "text/x-scala",
   "name": "scala",
   "pygments_lexer": "scala",
   "version": "2.11.8"
  }
 },
 "nbformat": 4,
 "nbformat_minor": 2
}
