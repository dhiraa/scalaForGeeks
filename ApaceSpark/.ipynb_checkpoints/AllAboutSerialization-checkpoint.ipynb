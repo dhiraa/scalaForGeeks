{
 "cells": [
  {
   "cell_type": "markdown",
   "metadata": {},
   "source": [
    "Spark is a distributed computing engine and its main abstraction is a resilient distributed dataset (RDD), which can be\n",
    "viewed as a distributed collection. Basically, RDD's elements are partitioned across the nodes of the cluster, but Spark\n",
    "abstracts this away from the user, letting the user interact with the RDD (collection) as if it were a local one.\n",
    "\n",
    "Not to get into too many details, but when you run different transformations on a RDD (map, flatMap, filter and others),\n",
    "your transformation code (closure) is:\n",
    "\n",
    "1. Serialized on the driver node,\n",
    "2. Shipped to the appropriate nodes in the cluster,\n",
    "3. Deserialized, and\n",
    "4. Finally executed on the nodes\n",
    "\n",
    "You can of course run this locally, but all those phases (apart from shipping over network) still\n",
    "occur. [This lets you catch any bugs even before deploying to production]\n",
    "\n",
    "Links: http://stackoverflow.com/questions/22592811/task-not-serializable-java-io-notserializableexception-when-calling-function-ou\n"
   ]
  },
  {
   "cell_type": "code",
   "execution_count": 7,
   "metadata": {},
   "outputs": [],
   "source": [
    "import org.apache.spark.SparkContext"
   ]
  },
  {
   "cell_type": "code",
   "execution_count": 8,
   "metadata": {},
   "outputs": [],
   "source": [
    "//You know I am going to take your application down :)\n",
    "class ClassRDDManupulation_Ver1 {\n",
    "  def listIncrement(sc: org.apache.spark.SparkContext) = {\n",
    "\n",
    "    val listRDD = sc.parallelize(List(1,2,3,4,5,6,7,8,9,10), 2)\n",
    "    def increment(x: Int) = x + 1\n",
    "    println(\"ClassRDDManupulation_Ver1\")\n",
    "    val incrementedListRDD = listRDD.map(increment(_))\n",
    "    incrementedListRDD.foreach(println)\n",
    "  }\n",
    "}"
   ]
  },
  {
   "cell_type": "code",
   "execution_count": 9,
   "metadata": {
    "collapsed": true
   },
   "outputs": [],
   "source": [
    "class ClassRDDManupulation_Ver2 extends java.io.Serializable { //Someone packed me! huh I am gonna travel\n",
    "    def listIncrement(sc : org.apache.spark.SparkContext) = {\n",
    "\n",
    "      val listRDD = sc.parallelize(List(1,2,3,4,5,6,7,8,9,10), 2)\n",
    "      def increment(x: Int) = x + 1\n",
    "      println(\"ClassRDDManupulation_Ver2\")\n",
    "      val incrementedListRDD = listRDD.map(increment(_))\n",
    "      incrementedListRDD.foreach(println)\n",
    "    }\n",
    "}"
   ]
  },
  {
   "cell_type": "code",
   "execution_count": 10,
   "metadata": {
    "collapsed": true
   },
   "outputs": [],
   "source": [
    "//Only the increment anonymous function is serialized by default by Spark\n",
    "class ClassRDDManupulation_Ver3 {\n",
    "  def listIncrement(sc : org.apache.spark.SparkContext) = {\n",
    "\n",
    "    val listRDD = sc.parallelize(List(1,2,3,4,5,6,7,8,9,10), 2)\n",
    "    val increment = (x: Int) => x + 1 //Hey there... now I am a first class citizen!\n",
    "    println(\"ClassRDDManupulation_Ver3\")\n",
    "    val incrementedListRDD = listRDD.map(increment(_))\n",
    "    incrementedListRDD.foreach(println)\n",
    "  }\n",
    "}"
   ]
  },
  {
   "cell_type": "code",
   "execution_count": 11,
   "metadata": {
    "collapsed": true
   },
   "outputs": [],
   "source": [
    "//Oh god I cant be keep incarnating!\n",
    "//By default whole obejct is serialized\n",
    "object ClassRDDManupulation_Ver4 {\n",
    "  def listIncrement(sc : org.apache.spark.SparkContext) = {\n",
    "\n",
    "    val listRDD = sc.parallelize(List(1,2,3,4,5,6,7,8,9,10), 2)\n",
    "    def increment(x: Int) = x + 1\n",
    "    println(\"ClassRDDManupulation_Ver4\")\n",
    "    val incrementedListRDD = listRDD.map(increment(_))\n",
    "    incrementedListRDD.foreach(println)\n",
    "  }\n",
    "}"
   ]
  },
  {
   "cell_type": "code",
   "execution_count": null,
   "metadata": {
    "collapsed": true
   },
   "outputs": [],
   "source": []
  },
  {
   "cell_type": "code",
   "execution_count": 12,
   "metadata": {},
   "outputs": [
    {
     "name": "stdout",
     "output_type": "stream",
     "text": [
      "simpleRDDManipulation\n",
      "[Stage 0:>                                                          (0 + 2) / 2]7\n",
      "2\n",
      "3\n",
      "4\n",
      "5\n",
      "6\n",
      "8\n",
      "9\n",
      "10\n",
      "11\n"
     ]
    }
   ],
   "source": [
    "val listRDD = sc.parallelize(List(1,2,3,4,5,6,7,8,9,10), 2)\n",
    "def increment(x: Int) = x + 1\n",
    "println(\"simpleRDDManipulation\")\n",
    "val incrementedListRDD = listRDD.map(increment(_))\n",
    "incrementedListRDD.foreach(println)"
   ]
  },
  {
   "cell_type": "code",
   "execution_count": null,
   "metadata": {
    "collapsed": true
   },
   "outputs": [],
   "source": [
    "val classRDDManupulation_Ver2 = new ClassRDDManupulation_Ver2\n",
    "classRDDManupulation_Ver2.listIncrement(sc)"
   ]
  },
  {
   "cell_type": "code",
   "execution_count": null,
   "metadata": {
    "collapsed": true
   },
   "outputs": [],
   "source": [
    "val classRDDManupulation_Ver3 = new ClassRDDManupulation_Ver3\n",
    "classRDDManupulation_Ver3.listIncrement(sc)"
   ]
  },
  {
   "cell_type": "code",
   "execution_count": null,
   "metadata": {
    "collapsed": true
   },
   "outputs": [],
   "source": [
    "ClassRDDManupulation_Ver4.listIncrement(sc)"
   ]
  },
  {
   "cell_type": "code",
   "execution_count": null,
   "metadata": {
    "collapsed": true
   },
   "outputs": [],
   "source": [
    "//So why did this made the crash? Neither the class or the function is serializable\n",
    "val classRDDManupulation_Ver1 = new ClassRDDManupulation_Ver1\n",
    "classRDDManupulation_Ver1.listIncrement(sc)"
   ]
  }
 ],
 "metadata": {
  "kernelspec": {
   "display_name": "ToreeSpark - Scala",
   "language": "scala",
   "name": "toreespark_scala"
  },
  "language_info": {
   "codemirror_mode": "text/x-scala",
   "file_extension": ".scala",
   "mimetype": "text/x-scala",
   "name": "scala",
   "pygments_lexer": "scala",
   "version": "2.11.8"
  }
 },
 "nbformat": 4,
 "nbformat_minor": 2
}
